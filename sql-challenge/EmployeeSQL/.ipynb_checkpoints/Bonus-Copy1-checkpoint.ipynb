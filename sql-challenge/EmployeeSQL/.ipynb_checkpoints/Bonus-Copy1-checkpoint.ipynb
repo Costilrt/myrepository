{
 "cells": [
  {
   "cell_type": "code",
   "execution_count": 1,
   "id": "5190a2db",
   "metadata": {},
   "outputs": [
    {
     "ename": "ModuleNotFoundError",
     "evalue": "No module named 'psycopg2'",
     "output_type": "error",
     "traceback": [
      "\u001b[0;31m---------------------------------------------------------------------------\u001b[0m",
      "\u001b[0;31mModuleNotFoundError\u001b[0m                       Traceback (most recent call last)",
      "\u001b[0;32m/var/folders/s6/18mn8g3s4mxcv3mpc6q7xwt00000gn/T/ipykernel_7640/2028583300.py\u001b[0m in \u001b[0;36m<module>\u001b[0;34m\u001b[0m\n\u001b[1;32m      6\u001b[0m \u001b[0;34m\u001b[0m\u001b[0m\n\u001b[1;32m      7\u001b[0m \u001b[0;31m# connect to postgres database\u001b[0m\u001b[0;34m\u001b[0m\u001b[0;34m\u001b[0m\u001b[0m\n\u001b[0;32m----> 8\u001b[0;31m \u001b[0mengine\u001b[0m \u001b[0;34m=\u001b[0m \u001b[0mcreate_engine\u001b[0m\u001b[0;34m(\u001b[0m\u001b[0;34m'postgresql://localhost:5432/Employee_DB'\u001b[0m\u001b[0;34m)\u001b[0m\u001b[0;34m\u001b[0m\u001b[0;34m\u001b[0m\u001b[0m\n\u001b[0m\u001b[1;32m      9\u001b[0m \u001b[0;31m#engine = create_engine('postgresql://postgres:' + password + '@localhost:5432/Employee_DB')\u001b[0m\u001b[0;34m\u001b[0m\u001b[0;34m\u001b[0m\u001b[0m\n\u001b[1;32m     10\u001b[0m \u001b[0mconnection\u001b[0m \u001b[0;34m=\u001b[0m \u001b[0mengine\u001b[0m\u001b[0;34m.\u001b[0m\u001b[0mconnect\u001b[0m\u001b[0;34m(\u001b[0m\u001b[0;34m)\u001b[0m\u001b[0;34m\u001b[0m\u001b[0;34m\u001b[0m\u001b[0m\n",
      "\u001b[0;32m<string>\u001b[0m in \u001b[0;36mcreate_engine\u001b[0;34m(url, **kwargs)\u001b[0m\n",
      "\u001b[0;32m~/opt/anaconda3/lib/python3.9/site-packages/sqlalchemy/util/deprecations.py\u001b[0m in \u001b[0;36mwarned\u001b[0;34m(fn, *args, **kwargs)\u001b[0m\n\u001b[1;32m    296\u001b[0m                         \u001b[0mstacklevel\u001b[0m\u001b[0;34m=\u001b[0m\u001b[0;36m3\u001b[0m\u001b[0;34m,\u001b[0m\u001b[0;34m\u001b[0m\u001b[0;34m\u001b[0m\u001b[0m\n\u001b[1;32m    297\u001b[0m                     )\n\u001b[0;32m--> 298\u001b[0;31m             \u001b[0;32mreturn\u001b[0m \u001b[0mfn\u001b[0m\u001b[0;34m(\u001b[0m\u001b[0;34m*\u001b[0m\u001b[0margs\u001b[0m\u001b[0;34m,\u001b[0m \u001b[0;34m**\u001b[0m\u001b[0mkwargs\u001b[0m\u001b[0;34m)\u001b[0m\u001b[0;34m\u001b[0m\u001b[0;34m\u001b[0m\u001b[0m\n\u001b[0m\u001b[1;32m    299\u001b[0m \u001b[0;34m\u001b[0m\u001b[0m\n\u001b[1;32m    300\u001b[0m         \u001b[0mdoc\u001b[0m \u001b[0;34m=\u001b[0m \u001b[0mfn\u001b[0m\u001b[0;34m.\u001b[0m\u001b[0m__doc__\u001b[0m \u001b[0;32mis\u001b[0m \u001b[0;32mnot\u001b[0m \u001b[0;32mNone\u001b[0m \u001b[0;32mand\u001b[0m \u001b[0mfn\u001b[0m\u001b[0;34m.\u001b[0m\u001b[0m__doc__\u001b[0m \u001b[0;32mor\u001b[0m \u001b[0;34m\"\"\u001b[0m\u001b[0;34m\u001b[0m\u001b[0;34m\u001b[0m\u001b[0m\n",
      "\u001b[0;32m~/opt/anaconda3/lib/python3.9/site-packages/sqlalchemy/engine/create.py\u001b[0m in \u001b[0;36mcreate_engine\u001b[0;34m(url, **kwargs)\u001b[0m\n\u001b[1;32m    546\u001b[0m             \u001b[0;32mif\u001b[0m \u001b[0mk\u001b[0m \u001b[0;32min\u001b[0m \u001b[0mkwargs\u001b[0m\u001b[0;34m:\u001b[0m\u001b[0;34m\u001b[0m\u001b[0;34m\u001b[0m\u001b[0m\n\u001b[1;32m    547\u001b[0m                 \u001b[0mdbapi_args\u001b[0m\u001b[0;34m[\u001b[0m\u001b[0mk\u001b[0m\u001b[0;34m]\u001b[0m \u001b[0;34m=\u001b[0m \u001b[0mpop_kwarg\u001b[0m\u001b[0;34m(\u001b[0m\u001b[0mk\u001b[0m\u001b[0;34m)\u001b[0m\u001b[0;34m\u001b[0m\u001b[0;34m\u001b[0m\u001b[0m\n\u001b[0;32m--> 548\u001b[0;31m         \u001b[0mdbapi\u001b[0m \u001b[0;34m=\u001b[0m \u001b[0mdialect_cls\u001b[0m\u001b[0;34m.\u001b[0m\u001b[0mdbapi\u001b[0m\u001b[0;34m(\u001b[0m\u001b[0;34m**\u001b[0m\u001b[0mdbapi_args\u001b[0m\u001b[0;34m)\u001b[0m\u001b[0;34m\u001b[0m\u001b[0;34m\u001b[0m\u001b[0m\n\u001b[0m\u001b[1;32m    549\u001b[0m \u001b[0;34m\u001b[0m\u001b[0m\n\u001b[1;32m    550\u001b[0m     \u001b[0mdialect_args\u001b[0m\u001b[0;34m[\u001b[0m\u001b[0;34m\"dbapi\"\u001b[0m\u001b[0;34m]\u001b[0m \u001b[0;34m=\u001b[0m \u001b[0mdbapi\u001b[0m\u001b[0;34m\u001b[0m\u001b[0;34m\u001b[0m\u001b[0m\n",
      "\u001b[0;32m~/opt/anaconda3/lib/python3.9/site-packages/sqlalchemy/dialects/postgresql/psycopg2.py\u001b[0m in \u001b[0;36mdbapi\u001b[0;34m(cls)\u001b[0m\n\u001b[1;32m    791\u001b[0m     \u001b[0;34m@\u001b[0m\u001b[0mclassmethod\u001b[0m\u001b[0;34m\u001b[0m\u001b[0;34m\u001b[0m\u001b[0m\n\u001b[1;32m    792\u001b[0m     \u001b[0;32mdef\u001b[0m \u001b[0mdbapi\u001b[0m\u001b[0;34m(\u001b[0m\u001b[0mcls\u001b[0m\u001b[0;34m)\u001b[0m\u001b[0;34m:\u001b[0m\u001b[0;34m\u001b[0m\u001b[0;34m\u001b[0m\u001b[0m\n\u001b[0;32m--> 793\u001b[0;31m         \u001b[0;32mimport\u001b[0m \u001b[0mpsycopg2\u001b[0m\u001b[0;34m\u001b[0m\u001b[0;34m\u001b[0m\u001b[0m\n\u001b[0m\u001b[1;32m    794\u001b[0m \u001b[0;34m\u001b[0m\u001b[0m\n\u001b[1;32m    795\u001b[0m         \u001b[0;32mreturn\u001b[0m \u001b[0mpsycopg2\u001b[0m\u001b[0;34m\u001b[0m\u001b[0;34m\u001b[0m\u001b[0m\n",
      "\u001b[0;31mModuleNotFoundError\u001b[0m: No module named 'psycopg2'"
     ]
    }
   ],
   "source": [
    "# import dependencies\n",
    "import pandas as pd\n",
    "import matplotlib.pyplot as plt\n",
    "from sqlalchemy import create_engine\n",
    "#from config import password\n",
    "\n",
    "# connect to postgres database\n",
    "engine = create_engine('postgresql://localhost:5432/Employee_DB')\n",
    "#engine = create_engine('postgresql://postgres:' + password + '@localhost:5432/Employee_DB')\n",
    "connection = engine.connect()"
   ]
  },
  {
   "cell_type": "code",
   "execution_count": null,
   "id": "2db43be2",
   "metadata": {},
   "outputs": [],
   "source": [
    "# query the database for salaries and output as dataframe\n",
    "salaries = pd.read_sql_query(\n",
    "'''SELECT salary\n",
    "FROM Salaries'''\n",
    ", connection)"
   ]
  },
  {
   "cell_type": "code",
   "execution_count": null,
   "id": "2fb447bb",
   "metadata": {},
   "outputs": [],
   "source": [
    "# find number of rows in full dataset\n",
    "salaries.shape"
   ]
  },
  {
   "cell_type": "code",
   "execution_count": null,
   "id": "4fe42ea3",
   "metadata": {},
   "outputs": [],
   "source": [
    "# compare number of rows to number of rows without null data\n",
    "# in this case, there are no null rows\n",
    "salaries.count()"
   ]
  },
  {
   "cell_type": "code",
   "execution_count": null,
   "id": "cdb3907d",
   "metadata": {},
   "outputs": [],
   "source": [
    "# set default figure size\n",
    "plt.rcParams[\"figure.figsize\"] = (10,10)"
   ]
  },
  {
   "cell_type": "code",
   "execution_count": null,
   "id": "13236a03",
   "metadata": {},
   "outputs": [],
   "source": [
    "# create bin sizes for histogram\n",
    "bins = [x for x in range(40000,135000,5000)]\n",
    "\n",
    "# plot histogram with axis labels\n",
    "plt.hist(salaries, bins)\n",
    "plt.xlabel(\"Salary Range\")\n",
    "plt.ylabel(\"Employee Count\")\n",
    "plt.title(\"Histogram of Employees by Salary Range\")\n",
    "plt.xlim([40000,130000])\n",
    "plt.xticks(rotation=45)\n",
    "plt.savefig(\"Salary_Histogram.png\")\n",
    "plt.show()"
   ]
  },
  {
   "cell_type": "code",
   "execution_count": null,
   "id": "0a9e0c00",
   "metadata": {},
   "outputs": [],
   "source": [
    "# query the database for salary by title and output as dataframe\n",
    "salary_x_title = pd.read_sql_query(\n",
    "'''SELECT s.salary, t.title\n",
    "FROM Employees AS e\n",
    "JOIN Salaries AS s USING (emp_no)\n",
    "JOIN Titles AS t ON (t.title_id=e.emp_title)'''\n",
    ", connection)"
   ]
  },
  {
   "cell_type": "code",
   "execution_count": null,
   "id": "989f55e6",
   "metadata": {},
   "outputs": [],
   "source": [
    "# find number of rows in full dataset\n",
    "salary_x_title.shape"
   ]
  },
  {
   "cell_type": "code",
   "execution_count": null,
   "id": "aeb1aa15",
   "metadata": {},
   "outputs": [],
   "source": [
    "# compare number of rows to number of rows without null data\n",
    "# in this case, there are no null rows\n",
    "salary_x_title.count()"
   ]
  },
  {
   "cell_type": "code",
   "execution_count": null,
   "id": "993e01c2",
   "metadata": {},
   "outputs": [],
   "source": [
    "# group by title and find average salary\n",
    "avg_salary = salary_x_title.groupby([\"title\"]).mean().reset_index()"
   ]
  },
  {
   "cell_type": "code",
   "execution_count": null,
   "id": "d3e3671c",
   "metadata": {},
   "outputs": [],
   "source": [
    "# create bar chart of average salary vs title\n",
    "plt.bar(avg_salary[\"title\"], avg_salary[\"salary\"])\n",
    "plt.xlabel(\"Employee Title\")\n",
    "plt.ylabel(\"Average Salary\")\n",
    "plt.title(\"Average Salary by Title\")\n",
    "plt.savefig(\"Salary_Title_Bar.png\")\n",
    "plt.show()"
   ]
  },
  {
   "cell_type": "code",
   "execution_count": null,
   "id": "49c1d45e",
   "metadata": {},
   "outputs": [],
   "source": [
    "# query the database for my id number (499942) and output as dataframe\n",
    "me = pd.read_sql_query(\n",
    "'''SELECT s.salary, t.title, e.birth_date, e.first_name, e.last_name, e.sex, e.hire_date, d.dept_name\n",
    "FROM Employees AS e\n",
    "JOIN Salaries AS s USING (emp_no)\n",
    "JOIN Titles AS t ON (t.title_id=e.emp_title)\n",
    "JOIN Department_Employees USING (emp_no)\n",
    "JOIN Departments AS d USING (dept_no)\n",
    "WHERE e.emp_no = 499942;'''\n",
    ", connection)"
   ]
  },
  {
   "cell_type": "code",
   "execution_count": null,
   "id": "34ac2104",
   "metadata": {},
   "outputs": [],
   "source": [
    "# display my info\n",
    "me"
   ]
  },
  {
   "cell_type": "code",
   "execution_count": null,
   "id": "860c8bf3",
   "metadata": {},
   "outputs": [],
   "source": []
  }
 ],
 "metadata": {
  "kernelspec": {
   "display_name": "Python 3 (ipykernel)",
   "language": "python",
   "name": "python3"
  },
  "language_info": {
   "codemirror_mode": {
    "name": "ipython",
    "version": 3
   },
   "file_extension": ".py",
   "mimetype": "text/x-python",
   "name": "python",
   "nbconvert_exporter": "python",
   "pygments_lexer": "ipython3",
   "version": "3.9.7"
  }
 },
 "nbformat": 4,
 "nbformat_minor": 5
}
