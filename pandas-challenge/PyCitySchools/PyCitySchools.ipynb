{
 "cells": [
  {
   "cell_type": "markdown",
   "metadata": {},
   "source": [
    "### Note\n",
    "* Instructions have been included for each segment. You do not have to follow them exactly, but they are included to help you think through the steps."
   ]
  },
  {
   "cell_type": "code",
   "execution_count": 1,
   "metadata": {},
   "outputs": [
    {
     "ename": "FileNotFoundError",
     "evalue": "[Errno 2] No such file or directory: '/Users/rollycostillas/Desktop/upenn/homework/myrepository/04-pandas-challenge/Resources/schools_complete.csv'",
     "output_type": "error",
     "traceback": [
      "\u001b[0;31m---------------------------------------------------------------------------\u001b[0m",
      "\u001b[0;31mFileNotFoundError\u001b[0m                         Traceback (most recent call last)",
      "\u001b[0;32m/var/folders/s6/18mn8g3s4mxcv3mpc6q7xwt00000gn/T/ipykernel_50387/264685025.py\u001b[0m in \u001b[0;36m<module>\u001b[0;34m\u001b[0m\n\u001b[1;32m      7\u001b[0m \u001b[0;34m\u001b[0m\u001b[0m\n\u001b[1;32m      8\u001b[0m \u001b[0;31m# Read School and Student Data File and store into Pandas DataFrames\u001b[0m\u001b[0;34m\u001b[0m\u001b[0;34m\u001b[0m\u001b[0m\n\u001b[0;32m----> 9\u001b[0;31m \u001b[0mschool_data\u001b[0m \u001b[0;34m=\u001b[0m \u001b[0mpd\u001b[0m\u001b[0;34m.\u001b[0m\u001b[0mread_csv\u001b[0m\u001b[0;34m(\u001b[0m\u001b[0mschool_data_to_load\u001b[0m\u001b[0;34m)\u001b[0m\u001b[0;34m\u001b[0m\u001b[0;34m\u001b[0m\u001b[0m\n\u001b[0m\u001b[1;32m     10\u001b[0m \u001b[0mstudent_data\u001b[0m \u001b[0;34m=\u001b[0m \u001b[0mpd\u001b[0m\u001b[0;34m.\u001b[0m\u001b[0mread_csv\u001b[0m\u001b[0;34m(\u001b[0m\u001b[0mstudent_data_to_load\u001b[0m\u001b[0;34m)\u001b[0m\u001b[0;34m\u001b[0m\u001b[0;34m\u001b[0m\u001b[0m\n\u001b[1;32m     11\u001b[0m \u001b[0;34m\u001b[0m\u001b[0m\n",
      "\u001b[0;32m~/opt/anaconda3/lib/python3.9/site-packages/pandas/util/_decorators.py\u001b[0m in \u001b[0;36mwrapper\u001b[0;34m(*args, **kwargs)\u001b[0m\n\u001b[1;32m    309\u001b[0m                     \u001b[0mstacklevel\u001b[0m\u001b[0;34m=\u001b[0m\u001b[0mstacklevel\u001b[0m\u001b[0;34m,\u001b[0m\u001b[0;34m\u001b[0m\u001b[0;34m\u001b[0m\u001b[0m\n\u001b[1;32m    310\u001b[0m                 )\n\u001b[0;32m--> 311\u001b[0;31m             \u001b[0;32mreturn\u001b[0m \u001b[0mfunc\u001b[0m\u001b[0;34m(\u001b[0m\u001b[0;34m*\u001b[0m\u001b[0margs\u001b[0m\u001b[0;34m,\u001b[0m \u001b[0;34m**\u001b[0m\u001b[0mkwargs\u001b[0m\u001b[0;34m)\u001b[0m\u001b[0;34m\u001b[0m\u001b[0;34m\u001b[0m\u001b[0m\n\u001b[0m\u001b[1;32m    312\u001b[0m \u001b[0;34m\u001b[0m\u001b[0m\n\u001b[1;32m    313\u001b[0m         \u001b[0;32mreturn\u001b[0m \u001b[0mwrapper\u001b[0m\u001b[0;34m\u001b[0m\u001b[0;34m\u001b[0m\u001b[0m\n",
      "\u001b[0;32m~/opt/anaconda3/lib/python3.9/site-packages/pandas/io/parsers/readers.py\u001b[0m in \u001b[0;36mread_csv\u001b[0;34m(filepath_or_buffer, sep, delimiter, header, names, index_col, usecols, squeeze, prefix, mangle_dupe_cols, dtype, engine, converters, true_values, false_values, skipinitialspace, skiprows, skipfooter, nrows, na_values, keep_default_na, na_filter, verbose, skip_blank_lines, parse_dates, infer_datetime_format, keep_date_col, date_parser, dayfirst, cache_dates, iterator, chunksize, compression, thousands, decimal, lineterminator, quotechar, quoting, doublequote, escapechar, comment, encoding, encoding_errors, dialect, error_bad_lines, warn_bad_lines, on_bad_lines, delim_whitespace, low_memory, memory_map, float_precision, storage_options)\u001b[0m\n\u001b[1;32m    584\u001b[0m     \u001b[0mkwds\u001b[0m\u001b[0;34m.\u001b[0m\u001b[0mupdate\u001b[0m\u001b[0;34m(\u001b[0m\u001b[0mkwds_defaults\u001b[0m\u001b[0;34m)\u001b[0m\u001b[0;34m\u001b[0m\u001b[0;34m\u001b[0m\u001b[0m\n\u001b[1;32m    585\u001b[0m \u001b[0;34m\u001b[0m\u001b[0m\n\u001b[0;32m--> 586\u001b[0;31m     \u001b[0;32mreturn\u001b[0m \u001b[0m_read\u001b[0m\u001b[0;34m(\u001b[0m\u001b[0mfilepath_or_buffer\u001b[0m\u001b[0;34m,\u001b[0m \u001b[0mkwds\u001b[0m\u001b[0;34m)\u001b[0m\u001b[0;34m\u001b[0m\u001b[0;34m\u001b[0m\u001b[0m\n\u001b[0m\u001b[1;32m    587\u001b[0m \u001b[0;34m\u001b[0m\u001b[0m\n\u001b[1;32m    588\u001b[0m \u001b[0;34m\u001b[0m\u001b[0m\n",
      "\u001b[0;32m~/opt/anaconda3/lib/python3.9/site-packages/pandas/io/parsers/readers.py\u001b[0m in \u001b[0;36m_read\u001b[0;34m(filepath_or_buffer, kwds)\u001b[0m\n\u001b[1;32m    480\u001b[0m \u001b[0;34m\u001b[0m\u001b[0m\n\u001b[1;32m    481\u001b[0m     \u001b[0;31m# Create the parser.\u001b[0m\u001b[0;34m\u001b[0m\u001b[0;34m\u001b[0m\u001b[0m\n\u001b[0;32m--> 482\u001b[0;31m     \u001b[0mparser\u001b[0m \u001b[0;34m=\u001b[0m \u001b[0mTextFileReader\u001b[0m\u001b[0;34m(\u001b[0m\u001b[0mfilepath_or_buffer\u001b[0m\u001b[0;34m,\u001b[0m \u001b[0;34m**\u001b[0m\u001b[0mkwds\u001b[0m\u001b[0;34m)\u001b[0m\u001b[0;34m\u001b[0m\u001b[0;34m\u001b[0m\u001b[0m\n\u001b[0m\u001b[1;32m    483\u001b[0m \u001b[0;34m\u001b[0m\u001b[0m\n\u001b[1;32m    484\u001b[0m     \u001b[0;32mif\u001b[0m \u001b[0mchunksize\u001b[0m \u001b[0;32mor\u001b[0m \u001b[0miterator\u001b[0m\u001b[0;34m:\u001b[0m\u001b[0;34m\u001b[0m\u001b[0;34m\u001b[0m\u001b[0m\n",
      "\u001b[0;32m~/opt/anaconda3/lib/python3.9/site-packages/pandas/io/parsers/readers.py\u001b[0m in \u001b[0;36m__init__\u001b[0;34m(self, f, engine, **kwds)\u001b[0m\n\u001b[1;32m    809\u001b[0m             \u001b[0mself\u001b[0m\u001b[0;34m.\u001b[0m\u001b[0moptions\u001b[0m\u001b[0;34m[\u001b[0m\u001b[0;34m\"has_index_names\"\u001b[0m\u001b[0;34m]\u001b[0m \u001b[0;34m=\u001b[0m \u001b[0mkwds\u001b[0m\u001b[0;34m[\u001b[0m\u001b[0;34m\"has_index_names\"\u001b[0m\u001b[0;34m]\u001b[0m\u001b[0;34m\u001b[0m\u001b[0;34m\u001b[0m\u001b[0m\n\u001b[1;32m    810\u001b[0m \u001b[0;34m\u001b[0m\u001b[0m\n\u001b[0;32m--> 811\u001b[0;31m         \u001b[0mself\u001b[0m\u001b[0;34m.\u001b[0m\u001b[0m_engine\u001b[0m \u001b[0;34m=\u001b[0m \u001b[0mself\u001b[0m\u001b[0;34m.\u001b[0m\u001b[0m_make_engine\u001b[0m\u001b[0;34m(\u001b[0m\u001b[0mself\u001b[0m\u001b[0;34m.\u001b[0m\u001b[0mengine\u001b[0m\u001b[0;34m)\u001b[0m\u001b[0;34m\u001b[0m\u001b[0;34m\u001b[0m\u001b[0m\n\u001b[0m\u001b[1;32m    812\u001b[0m \u001b[0;34m\u001b[0m\u001b[0m\n\u001b[1;32m    813\u001b[0m     \u001b[0;32mdef\u001b[0m \u001b[0mclose\u001b[0m\u001b[0;34m(\u001b[0m\u001b[0mself\u001b[0m\u001b[0;34m)\u001b[0m\u001b[0;34m:\u001b[0m\u001b[0;34m\u001b[0m\u001b[0;34m\u001b[0m\u001b[0m\n",
      "\u001b[0;32m~/opt/anaconda3/lib/python3.9/site-packages/pandas/io/parsers/readers.py\u001b[0m in \u001b[0;36m_make_engine\u001b[0;34m(self, engine)\u001b[0m\n\u001b[1;32m   1038\u001b[0m             )\n\u001b[1;32m   1039\u001b[0m         \u001b[0;31m# error: Too many arguments for \"ParserBase\"\u001b[0m\u001b[0;34m\u001b[0m\u001b[0;34m\u001b[0m\u001b[0m\n\u001b[0;32m-> 1040\u001b[0;31m         \u001b[0;32mreturn\u001b[0m \u001b[0mmapping\u001b[0m\u001b[0;34m[\u001b[0m\u001b[0mengine\u001b[0m\u001b[0;34m]\u001b[0m\u001b[0;34m(\u001b[0m\u001b[0mself\u001b[0m\u001b[0;34m.\u001b[0m\u001b[0mf\u001b[0m\u001b[0;34m,\u001b[0m \u001b[0;34m**\u001b[0m\u001b[0mself\u001b[0m\u001b[0;34m.\u001b[0m\u001b[0moptions\u001b[0m\u001b[0;34m)\u001b[0m  \u001b[0;31m# type: ignore[call-arg]\u001b[0m\u001b[0;34m\u001b[0m\u001b[0;34m\u001b[0m\u001b[0m\n\u001b[0m\u001b[1;32m   1041\u001b[0m \u001b[0;34m\u001b[0m\u001b[0m\n\u001b[1;32m   1042\u001b[0m     \u001b[0;32mdef\u001b[0m \u001b[0m_failover_to_python\u001b[0m\u001b[0;34m(\u001b[0m\u001b[0mself\u001b[0m\u001b[0;34m)\u001b[0m\u001b[0;34m:\u001b[0m\u001b[0;34m\u001b[0m\u001b[0;34m\u001b[0m\u001b[0m\n",
      "\u001b[0;32m~/opt/anaconda3/lib/python3.9/site-packages/pandas/io/parsers/c_parser_wrapper.py\u001b[0m in \u001b[0;36m__init__\u001b[0;34m(self, src, **kwds)\u001b[0m\n\u001b[1;32m     49\u001b[0m \u001b[0;34m\u001b[0m\u001b[0m\n\u001b[1;32m     50\u001b[0m         \u001b[0;31m# open handles\u001b[0m\u001b[0;34m\u001b[0m\u001b[0;34m\u001b[0m\u001b[0m\n\u001b[0;32m---> 51\u001b[0;31m         \u001b[0mself\u001b[0m\u001b[0;34m.\u001b[0m\u001b[0m_open_handles\u001b[0m\u001b[0;34m(\u001b[0m\u001b[0msrc\u001b[0m\u001b[0;34m,\u001b[0m \u001b[0mkwds\u001b[0m\u001b[0;34m)\u001b[0m\u001b[0;34m\u001b[0m\u001b[0;34m\u001b[0m\u001b[0m\n\u001b[0m\u001b[1;32m     52\u001b[0m         \u001b[0;32massert\u001b[0m \u001b[0mself\u001b[0m\u001b[0;34m.\u001b[0m\u001b[0mhandles\u001b[0m \u001b[0;32mis\u001b[0m \u001b[0;32mnot\u001b[0m \u001b[0;32mNone\u001b[0m\u001b[0;34m\u001b[0m\u001b[0;34m\u001b[0m\u001b[0m\n\u001b[1;32m     53\u001b[0m \u001b[0;34m\u001b[0m\u001b[0m\n",
      "\u001b[0;32m~/opt/anaconda3/lib/python3.9/site-packages/pandas/io/parsers/base_parser.py\u001b[0m in \u001b[0;36m_open_handles\u001b[0;34m(self, src, kwds)\u001b[0m\n\u001b[1;32m    220\u001b[0m         \u001b[0mLet\u001b[0m \u001b[0mthe\u001b[0m \u001b[0mreaders\u001b[0m \u001b[0mopen\u001b[0m \u001b[0mIOHandles\u001b[0m \u001b[0mafter\u001b[0m \u001b[0mthey\u001b[0m \u001b[0mare\u001b[0m \u001b[0mdone\u001b[0m \u001b[0;32mwith\u001b[0m \u001b[0mtheir\u001b[0m \u001b[0mpotential\u001b[0m \u001b[0mraises\u001b[0m\u001b[0;34m.\u001b[0m\u001b[0;34m\u001b[0m\u001b[0;34m\u001b[0m\u001b[0m\n\u001b[1;32m    221\u001b[0m         \"\"\"\n\u001b[0;32m--> 222\u001b[0;31m         self.handles = get_handle(\n\u001b[0m\u001b[1;32m    223\u001b[0m             \u001b[0msrc\u001b[0m\u001b[0;34m,\u001b[0m\u001b[0;34m\u001b[0m\u001b[0;34m\u001b[0m\u001b[0m\n\u001b[1;32m    224\u001b[0m             \u001b[0;34m\"r\"\u001b[0m\u001b[0;34m,\u001b[0m\u001b[0;34m\u001b[0m\u001b[0;34m\u001b[0m\u001b[0m\n",
      "\u001b[0;32m~/opt/anaconda3/lib/python3.9/site-packages/pandas/io/common.py\u001b[0m in \u001b[0;36mget_handle\u001b[0;34m(path_or_buf, mode, encoding, compression, memory_map, is_text, errors, storage_options)\u001b[0m\n\u001b[1;32m    700\u001b[0m         \u001b[0;32mif\u001b[0m \u001b[0mioargs\u001b[0m\u001b[0;34m.\u001b[0m\u001b[0mencoding\u001b[0m \u001b[0;32mand\u001b[0m \u001b[0;34m\"b\"\u001b[0m \u001b[0;32mnot\u001b[0m \u001b[0;32min\u001b[0m \u001b[0mioargs\u001b[0m\u001b[0;34m.\u001b[0m\u001b[0mmode\u001b[0m\u001b[0;34m:\u001b[0m\u001b[0;34m\u001b[0m\u001b[0;34m\u001b[0m\u001b[0m\n\u001b[1;32m    701\u001b[0m             \u001b[0;31m# Encoding\u001b[0m\u001b[0;34m\u001b[0m\u001b[0;34m\u001b[0m\u001b[0m\n\u001b[0;32m--> 702\u001b[0;31m             handle = open(\n\u001b[0m\u001b[1;32m    703\u001b[0m                 \u001b[0mhandle\u001b[0m\u001b[0;34m,\u001b[0m\u001b[0;34m\u001b[0m\u001b[0;34m\u001b[0m\u001b[0m\n\u001b[1;32m    704\u001b[0m                 \u001b[0mioargs\u001b[0m\u001b[0;34m.\u001b[0m\u001b[0mmode\u001b[0m\u001b[0;34m,\u001b[0m\u001b[0;34m\u001b[0m\u001b[0;34m\u001b[0m\u001b[0m\n",
      "\u001b[0;31mFileNotFoundError\u001b[0m: [Errno 2] No such file or directory: '/Users/rollycostillas/Desktop/upenn/homework/myrepository/04-pandas-challenge/Resources/schools_complete.csv'"
     ]
    }
   ],
   "source": [
    "# Dependencies and Setup\n",
    "import pandas as pd\n",
    "\n",
    "# File to Load (Remember to Change These)\n",
    "school_data_to_load = '/Users/rollycostillas/Desktop/upenn/homework/myrepository/04-pandas-challenge/Resources/schools_complete.csv'\n",
    "student_data_to_load = '/Users/rollycostillas/Desktop/upenn/homework/myrepository/04-pandas-challenge/Resources/students_complete.csv'\n",
    "\n",
    "# Read School and Student Data File and store into Pandas DataFrames\n",
    "school_data = pd.read_csv(school_data_to_load)\n",
    "student_data = pd.read_csv(student_data_to_load)\n",
    "\n",
    "# Add column for per student budget to the school_data DataFrame\n",
    "school_data[\"Per Student Budget\"] = school_data[\"budget\"] / school_data[\"size\"]\n",
    "\n",
    "# Add column for overall passing to the student_data DataFrame based on the student's math & reading scores\n",
    "student_data[\"Overall Passing\"] = False\n",
    "student_data.loc[(student_data[\"math_score\"] >= 70) & (student_data[\"reading_score\"] >= 70), \"Overall Passing\"] = True\n",
    "\n",
    "# Combine the data into a single dataset.  \n",
    "school_data_complete = pd.merge(student_data, school_data, how=\"left\", on=[\"school_name\", \"school_name\"])"
   ]
  },
  {
   "cell_type": "markdown",
   "metadata": {},
   "source": [
    "## District Summary\n",
    "\n",
    "* Calculate the total number of schools\n",
    "\n",
    "* Calculate the total number of students\n",
    "\n",
    "* Calculate the total budget\n",
    "\n",
    "* Calculate the average math score \n",
    "\n",
    "* Calculate the average reading score\n",
    "\n",
    "* Calculate the percentage of students with a passing math score (70 or greater)\n",
    "\n",
    "* Calculate the percentage of students with a passing reading score (70 or greater)\n",
    "\n",
    "* Calculate the percentage of students who passed math **and** reading (% Overall Passing)\n",
    "\n",
    "* Create a dataframe to hold the above results\n",
    "\n",
    "* Optional: give the displayed data cleaner formatting"
   ]
  },
  {
   "cell_type": "code",
   "execution_count": null,
   "metadata": {},
   "outputs": [],
   "source": [
    "# calculate the total number of schools\n",
    "total_schools = len(school_data[\"school_name\"])\n",
    "\n",
    "# calculate the total number of students\n",
    "total_students = len(school_data_complete[\"Student ID\"])"
   ]
  },
  {
   "cell_type": "code",
   "execution_count": null,
   "metadata": {},
   "outputs": [],
   "source": [
    "# calculate the total budget\n",
    "total_budget = \"${:,.2f}\".format(school_data[\"budget\"].sum())"
   ]
  },
  {
   "cell_type": "code",
   "execution_count": null,
   "metadata": {},
   "outputs": [],
   "source": [
    "# calculate the average math score\n",
    "avg_math = round(school_data_complete[\"math_score\"].mean(), 6)"
   ]
  },
  {
   "cell_type": "code",
   "execution_count": null,
   "metadata": {},
   "outputs": [],
   "source": [
    "# calculate the average reading score\n",
    "avg_reading = round(school_data_complete[\"reading_score\"].mean(), 6)"
   ]
  },
  {
   "cell_type": "code",
   "execution_count": null,
   "metadata": {},
   "outputs": [],
   "source": [
    "# filter to find number of students who passed math\n",
    "math_pass_count = len(school_data_complete.loc[(school_data_complete[\"math_score\"] >= 70), :])\n",
    "\n",
    "# filter to find number of students who passed reading\n",
    "reading_pass_count = len(school_data_complete.loc[(school_data_complete[\"reading_score\"] >= 70), :])\n",
    "\n",
    "# sum values of Overall Passing to get a count of students passing both (True = 1, False = 0)\n",
    "both_pass_count = school_data_complete[\"Overall Passing\"].sum()\n",
    "\n",
    "# calculate the percent passing in each category by dividing by total students & multiply by 100; also format\n",
    "math_pass = \"{:.6f}\".format((math_pass_count / total_students) * 100)\n",
    "reading_pass = \"{:.6f}\".format((reading_pass_count / total_students) * 100)\n",
    "both_pass = \"{:.6f}\".format((both_pass_count / total_students) * 100)\n",
    "\n",
    "# format total students that were done using for calculations\n",
    "total_students = \"{:,.0f}\".format(total_students)"
   ]
  },
  {
   "cell_type": "code",
   "execution_count": null,
   "metadata": {},
   "outputs": [],
   "source": [
    "# create a list of dictionaries to input all values into a dataframe\n",
    "district_summary_df = pd.DataFrame([{\"Total Schools\": total_schools, \"Total Students\": total_students,\n",
    "               \"Total Budget\": total_budget, \"Average Math Score\": avg_math, \n",
    "               \"Average Reading Score\": avg_reading, \"% Passing Math\": math_pass, \n",
    "               \"% Passing Reading\": reading_pass, \"% Overall Passing\": both_pass}])\n",
    "\n",
    "# show dataframe output\n",
    "district_summary_df"
   ]
  },
  {
   "cell_type": "markdown",
   "metadata": {},
   "source": [
    "## School Summary"
   ]
  },
  {
   "cell_type": "markdown",
   "metadata": {},
   "source": [
    "* Create an overview table that summarizes key metrics about each school, including:\n",
    "  * School Name\n",
    "  * School Type\n",
    "  * Total Students\n",
    "  * Total School Budget\n",
    "  * Per Student Budget\n",
    "  * Average Math Score\n",
    "  * Average Reading Score\n",
    "  * % Passing Math\n",
    "  * % Passing Reading\n",
    "  * % Overall Passing (The percentage of students that passed math **and** reading.)\n",
    "  \n",
    "* Create a dataframe to hold the above results"
   ]
  },
  {
   "cell_type": "code",
   "execution_count": null,
   "metadata": {},
   "outputs": [],
   "source": [
    "# get School Name, School Type, Total Students, Total School Budget, Per Student Budget columns from base school_data dataframe\n",
    "school_summary_df = school_data.iloc[:,1:6]\n",
    "\n",
    "# rename columns for better descriptions\n",
    "school_summary_df = school_summary_df.rename(columns={\"type\":\"School Type\",\"size\":\"Total Students\",\"budget\":\"Total School Budget\"})"
   ]
  },
  {
   "cell_type": "code",
   "execution_count": null,
   "metadata": {},
   "outputs": [],
   "source": [
    "# sort dataframe by school_name (ascending)\n",
    "school_summary_df = school_summary_df.sort_values(\"school_name\")"
   ]
  },
  {
   "cell_type": "code",
   "execution_count": null,
   "metadata": {},
   "outputs": [],
   "source": [
    "# group all school data by school_name\n",
    "school_calc_group = school_data_complete.groupby([\"school_name\"])\n",
    "\n",
    "# calculate the average math & reading scores for the groupby\n",
    "avg_scores = school_calc_group[[\"math_score\",\"reading_score\"]].mean()\n",
    "\n",
    "# rename columns for better descriptions\n",
    "avg_scores = avg_scores.rename(columns={\"math_score\":\"Average Math Score\",\"reading_score\":\"Average Reading Score\"})\n",
    "\n",
    "# merge the basic school data and average scores to one dataframe\n",
    "school_summary_df = pd.merge(school_summary_df, avg_scores, how=\"left\", on=\"school_name\")"
   ]
  },
  {
   "cell_type": "code",
   "execution_count": null,
   "metadata": {},
   "outputs": [],
   "source": [
    "# calculate the percent passing math & reading individually using lambda function on the groupby\n",
    "pass_percs = school_calc_group[[\"math_score\",\"reading_score\"]].apply(lambda x: ((x>=70).sum()) / x.count() * 100)\n",
    "\n",
    "# rename columns for better descriptions\n",
    "pass_percs = pass_percs.rename(columns={\"math_score\":\"% Passing Math\",\"reading_score\":\"% Passing Reading\"})\n",
    "\n",
    "# merge basic school data + average scores with the individual passing percentages\n",
    "school_summary_df = pd.merge(school_summary_df, pass_percs, how=\"left\", on=\"school_name\")"
   ]
  },
  {
   "cell_type": "code",
   "execution_count": null,
   "metadata": {},
   "outputs": [],
   "source": [
    "# calculate overall passing percentage on the groupby \n",
    "# sum only counts True values, count counts both True and False values\n",
    "both_pass = school_calc_group[\"Overall Passing\"].sum() / school_calc_group[\"Overall Passing\"].count() * 100"
   ]
  },
  {
   "cell_type": "code",
   "execution_count": null,
   "metadata": {},
   "outputs": [],
   "source": [
    "# merge basic school data + average scores + individual passing percentages with overall passing percentage\n",
    "school_summary_df = pd.merge(school_summary_df, both_pass, how=\"left\", on=\"school_name\")\n",
    "\n",
    "# rename columns for better descriptions\n",
    "school_summary_df = school_summary_df.rename(columns={\"Overall Passing\":\"% Overall Passing\"})"
   ]
  },
  {
   "cell_type": "code",
   "execution_count": null,
   "metadata": {},
   "outputs": [],
   "source": [
    "# format all columns as needed\n",
    "school_summary_df[\"Total School Budget\"] = school_summary_df[\"Total School Budget\"].map(\"${:,.2f}\".format)\n",
    "school_summary_df[\"Per Student Budget\"] = school_summary_df[\"Per Student Budget\"].map(\"${:,.2f}\".format)\n",
    "school_summary_df[\"Average Math Score\"] = school_summary_df[\"Average Math Score\"].map(\"{:.6f}\".format)\n",
    "school_summary_df[\"Average Reading Score\"] = school_summary_df[\"Average Reading Score\"].map(\"{:.6f}\".format)\n",
    "school_summary_df[\"% Passing Math\"] = school_summary_df[\"% Passing Math\"].map(\"{:.6f}\".format)\n",
    "school_summary_df[\"% Passing Reading\"] = school_summary_df[\"% Passing Reading\"].map(\"{:.6f}\".format)\n",
    "school_summary_df[\"% Overall Passing\"] = school_summary_df[\"% Overall Passing\"].map(\"{:.6f}\".format)"
   ]
  },
  {
   "cell_type": "code",
   "execution_count": null,
   "metadata": {},
   "outputs": [],
   "source": [
    "# rename columns for better descriptions\n",
    "school_summary_df = school_summary_df.rename(columns={\"school_name\":\"School Name\"})\n",
    "\n",
    "# set School Name to index\n",
    "school_summary_df = school_summary_df.set_index(\"School Name\",drop=True)\n",
    "school_summary_df"
   ]
  },
  {
   "cell_type": "markdown",
   "metadata": {},
   "source": [
    "## Top Performing Schools (By % Overall Passing)"
   ]
  },
  {
   "cell_type": "markdown",
   "metadata": {},
   "source": [
    "* Sort and display the top five performing schools by % overall passing."
   ]
  },
  {
   "cell_type": "code",
   "execution_count": null,
   "metadata": {
    "scrolled": true
   },
   "outputs": [],
   "source": [
    "# Sort and display the top five performing schools by % overall passing\n",
    "top_performing_df = school_summary_df.sort_values(\"% Overall Passing\", ascending = False)\n",
    "top_performing_df.head()"
   ]
  },
  {
   "cell_type": "markdown",
   "metadata": {},
   "source": [
    "## Bottom Performing Schools (By % Overall Passing)"
   ]
  },
  {
   "cell_type": "markdown",
   "metadata": {},
   "source": [
    "* Sort and display the five worst-performing schools by % overall passing."
   ]
  },
  {
   "cell_type": "code",
   "execution_count": null,
   "metadata": {},
   "outputs": [],
   "source": [
    "# sort and display the five worst-performing schools by % overall passing.\n",
    "bottom_performing_df = school_summary_df.sort_values(\"% Overall Passing\")\n",
    "bottom_performing_df.head()"
   ]
  },
  {
   "cell_type": "markdown",
   "metadata": {
    "collapsed": true
   },
   "source": [
    "## Math Scores by Grade"
   ]
  },
  {
   "cell_type": "markdown",
   "metadata": {},
   "source": [
    "* Create a table that lists the average Reading Score for students of each grade level (9th, 10th, 11th, 12th) at each school.\n",
    "\n",
    "  * Create a pandas series for each grade. Hint: use a conditional statement.\n",
    "  \n",
    "  * Group each series by school\n",
    "  \n",
    "  * Combine the series into a dataframe\n",
    "  \n",
    "  * Optional: give the displayed data cleaner formatting"
   ]
  },
  {
   "cell_type": "code",
   "execution_count": null,
   "metadata": {},
   "outputs": [],
   "source": [
    "# group by school and grade, find math score average\n",
    "math_by_grades_df = school_data_complete.groupby([\"school_name\",\"grade\"])[\"math_score\"] \\\n",
    "                        .mean() \\\n",
    "                        .map(\"{:.6f}\".format) \\\n",
    "                        .unstack() \\\n",
    "                        .rename_axis(None, axis=1)\n",
    "# rename the index\n",
    "math_by_grades_df.index.names = [\"School Name\"]\n",
    "\n",
    "# reorder the columns\n",
    "math_by_grades_df = math_by_grades_df[[\"9th\",\"10th\",\"11th\",\"12th\"]]\n",
    "math_by_grades_df"
   ]
  },
  {
   "cell_type": "markdown",
   "metadata": {},
   "source": [
    "## Reading Score by Grade "
   ]
  },
  {
   "cell_type": "markdown",
   "metadata": {},
   "source": [
    "* Perform the same operations as above for reading scores"
   ]
  },
  {
   "cell_type": "code",
   "execution_count": null,
   "metadata": {},
   "outputs": [],
   "source": [
    "# group by school and grade, find reading score average\n",
    "reading_by_grades_df = school_data_complete.groupby([\"school_name\",\"grade\"])[\"reading_score\"] \\\n",
    "                        .mean() \\\n",
    "                        .map(\"{:.6f}\".format) \\\n",
    "                        .unstack() \\\n",
    "                        .rename_axis(None, axis=1)\n",
    "\n",
    "# rename the index\n",
    "reading_by_grades_df.index.names = [\"School Name\"]\n",
    "\n",
    "# reorder the columns\n",
    "reading_by_grades_df = reading_by_grades_df[[\"9th\",\"10th\",\"11th\",\"12th\"]]\n",
    "reading_by_grades_df"
   ]
  },
  {
   "cell_type": "markdown",
   "metadata": {},
   "source": [
    "## Scores by School Spending"
   ]
  },
  {
   "cell_type": "markdown",
   "metadata": {},
   "source": [
    "* Create a table that breaks down school performances based on average Spending Ranges (Per Student). Use 4 reasonable bins to group school spending. Include in the table each of the following:\n",
    "  * Average Math Score\n",
    "  * Average Reading Score\n",
    "  * % Passing Math\n",
    "  * % Passing Reading\n",
    "  * Overall Passing Rate (Average of the above two)"
   ]
  },
  {
   "cell_type": "code",
   "execution_count": null,
   "metadata": {},
   "outputs": [],
   "source": [
    "# set bins\n",
    "bins = [0, 583.99, 628.99, 643.99, 674.99]\n",
    "\n",
    "# set bin labels\n",
    "bin_names = [\"<\\$584\", \"\\$585-\\$629\", \"\\$630-\\$644\", \"\\$645-\\$675\"]"
   ]
  },
  {
   "cell_type": "code",
   "execution_count": null,
   "metadata": {},
   "outputs": [],
   "source": [
    "# store select columns from complete data in new df for manipulation\n",
    "school_spending_df = school_data_complete.loc[:,[\"math_score\",\"reading_score\",\"Overall Passing\",\"Per Student Budget\"]]"
   ]
  },
  {
   "cell_type": "code",
   "execution_count": null,
   "metadata": {},
   "outputs": [],
   "source": [
    "# cut into spending range bins & create new column\n",
    "school_spending_df[\"Spending Ranges (Per Student)\"] = pd.cut(school_spending_df[\"Per Student Budget\"], bins, labels=bin_names, include_lowest=True)"
   ]
  },
  {
   "cell_type": "code",
   "execution_count": null,
   "metadata": {},
   "outputs": [],
   "source": [
    "# set Spending Range column as index\n",
    "school_spending_df = school_spending_df.set_index(\"Spending Ranges (Per Student)\",drop=True)\n",
    "\n",
    "# group df by Spending Range\n",
    "school_spending_group = school_spending_df.groupby(\"Spending Ranges (Per Student)\")"
   ]
  },
  {
   "cell_type": "code",
   "execution_count": null,
   "metadata": {},
   "outputs": [],
   "source": [
    "# calculate average math & reading scores for the groupby & rename columns for better descriptions\n",
    "school_spending_avgs_df = school_spending_group[[\"math_score\",\"reading_score\"]].mean() \\\n",
    "                            .rename(columns={\"math_score\":\"Average Math Score\",\"reading_score\":\"Average Reading Score\"})"
   ]
  },
  {
   "cell_type": "code",
   "execution_count": null,
   "metadata": {},
   "outputs": [],
   "source": [
    "# calculate the percent passing math & reading individually using lambda function on the groupby & rename coluumns for better descriptions\n",
    "school_spending_pass_df = school_spending_group[[\"math_score\",\"reading_score\"]].apply(lambda x: ((x>=70).sum()) / x.count() * 100) \\\n",
    "                            .rename(columns={\"math_score\":\"% Passing Math\",\"reading_score\":\"% Passing Reading\"})\n",
    "\n",
    "# merge average scores with the individual passing percentages\n",
    "school_spending_summary_df = pd.merge(school_spending_avgs_df, school_spending_pass_df, how=\"left\", on=\"Spending Ranges (Per Student)\")"
   ]
  },
  {
   "cell_type": "code",
   "execution_count": null,
   "metadata": {},
   "outputs": [],
   "source": [
    "# calculate overall passing percentage on the groupby \n",
    "# sum only counts True values, count counts both True and False values\n",
    "overall_pass = school_spending_group[\"Overall Passing\"].sum() / school_spending_group[\"Overall Passing\"].count() * 100\n",
    "\n",
    "# merge average scores + individual passing percentages with overall passing percentage & rename columns for better descriptions\n",
    "school_spending_summary_df = pd.merge(school_spending_summary_df, overall_pass, how=\"left\", on=\"Spending Ranges (Per Student)\") \\\n",
    "                                .rename(columns={\"Overall Passing\":\"% Overall Passing\"})"
   ]
  },
  {
   "cell_type": "code",
   "execution_count": null,
   "metadata": {
    "scrolled": true
   },
   "outputs": [],
   "source": [
    "# format all columns as needed\n",
    "school_spending_summary_df[\"Average Math Score\"] = school_spending_summary_df[\"Average Math Score\"].map(\"{:.2f}\".format)\n",
    "school_spending_summary_df[\"Average Reading Score\"] = school_spending_summary_df[\"Average Reading Score\"].map(\"{:.2f}\".format)\n",
    "school_spending_summary_df[\"% Passing Math\"] = school_spending_summary_df[\"% Passing Math\"].map(\"{:.2f}\".format)\n",
    "school_spending_summary_df[\"% Passing Reading\"] = school_spending_summary_df[\"% Passing Reading\"].map(\"{:.2f}\".format)\n",
    "school_spending_summary_df[\"% Overall Passing\"] = school_spending_summary_df[\"% Overall Passing\"].map(\"{:.2f}\".format)\n",
    "\n",
    "# show the dataframe output\n",
    "school_spending_summary_df"
   ]
  },
  {
   "cell_type": "markdown",
   "metadata": {},
   "source": [
    "## Scores by School Size"
   ]
  },
  {
   "cell_type": "markdown",
   "metadata": {},
   "source": [
    "* Perform the same operations as above, based on school size."
   ]
  },
  {
   "cell_type": "code",
   "execution_count": null,
   "metadata": {},
   "outputs": [],
   "source": [
    "# set bins\n",
    "bins = [0, 999.9, 1999.9, 5000]\n",
    "\n",
    "# set bin labels\n",
    "bin_names = [\"Small (<1000)\", \"Medium (1000-2000)\", \"Large (2000-5000)\"]"
   ]
  },
  {
   "cell_type": "code",
   "execution_count": null,
   "metadata": {},
   "outputs": [],
   "source": [
    "# store select columns from complete data in new df for manipulation\n",
    "school_size_df = school_data_complete.loc[:,[\"math_score\",\"reading_score\",\"Overall Passing\",\"size\"]]\n",
    "\n",
    "# cut into school size bins & create new column\n",
    "school_size_df[\"School Size\"] = pd.cut(school_size_df[\"size\"], bins, labels=bin_names, include_lowest=True)\n",
    "\n",
    "# create group by of school size bins\n",
    "school_size_group = school_size_df.groupby(\"School Size\")"
   ]
  },
  {
   "cell_type": "code",
   "execution_count": null,
   "metadata": {},
   "outputs": [],
   "source": [
    "# calculate average math & reading scores for the groupby & rename columns for better descriptions\n",
    "size_grades_avg_df = school_size_group[[\"math_score\",\"reading_score\"]].mean() \\\n",
    "                        .rename(columns={\"math_score\":\"Average Math Score\",\"reading_score\":\"Average Reading Score\"})"
   ]
  },
  {
   "cell_type": "code",
   "execution_count": null,
   "metadata": {},
   "outputs": [],
   "source": [
    "# calculate the percent passing math & reading individually using lambda function on the groupby & rename coluumns for better descriptions\n",
    "size_pass_perc = school_size_group[[\"math_score\",\"reading_score\"]].apply(lambda x: ((x>=70).sum()) / x.count() * 100) \\\n",
    "                    .rename(columns={\"math_score\":\"% Passing Math\",\"reading_score\":\"% Passing Reading\"})\n",
    "\n",
    "# merge average scores with the individual passing percentages\n",
    "school_size_summary_df = pd.merge(size_grades_avg_df, size_pass_perc, how=\"left\", on=\"School Size\")"
   ]
  },
  {
   "cell_type": "code",
   "execution_count": null,
   "metadata": {},
   "outputs": [],
   "source": [
    "# calculate overall passing percentage on the groupby \n",
    "# sum only counts True values, count counts both True and False values\n",
    "size_both_pass = school_size_group[\"Overall Passing\"].sum() / school_size_group[\"Overall Passing\"].count() * 100"
   ]
  },
  {
   "cell_type": "code",
   "execution_count": null,
   "metadata": {},
   "outputs": [],
   "source": [
    "# merge average scores + individual passing percentages with overall passing percentage & rename columns for better descriptions\n",
    "school_size_summary_df = pd.merge(school_size_summary_df, size_both_pass, how=\"left\", on=\"School Size\") \\\n",
    "                            .rename(columns={\"Overall Passing\":\"% Overall Passing\"})"
   ]
  },
  {
   "cell_type": "code",
   "execution_count": null,
   "metadata": {
    "scrolled": true
   },
   "outputs": [],
   "source": [
    "# format all columns as needed\n",
    "school_size_summary_df[\"Average Math Score\"] = school_size_summary_df[\"Average Math Score\"].map(\"{:.6f}\".format)\n",
    "school_size_summary_df[\"Average Reading Score\"] = school_size_summary_df[\"Average Reading Score\"].map(\"{:.6f}\".format)\n",
    "school_size_summary_df[\"% Passing Math\"] = school_size_summary_df[\"% Passing Math\"].map(\"{:.6f}\".format)\n",
    "school_size_summary_df[\"% Passing Reading\"] = school_size_summary_df[\"% Passing Reading\"].map(\"{:.6f}\".format)\n",
    "school_size_summary_df[\"% Overall Passing\"] = school_size_summary_df[\"% Overall Passing\"].map(\"{:.6f}\".format)\n",
    "\n",
    "# show the dataframe output\n",
    "school_size_summary_df"
   ]
  },
  {
   "cell_type": "markdown",
   "metadata": {},
   "source": [
    "## Scores by School Type"
   ]
  },
  {
   "cell_type": "markdown",
   "metadata": {},
   "source": [
    "* Perform the same operations as above, based on school type"
   ]
  },
  {
   "cell_type": "code",
   "execution_count": null,
   "metadata": {},
   "outputs": [],
   "source": [
    "# store select columns from complete data in new df for manipulation & groupby type\n",
    "school_type_group = school_data_complete[[\"math_score\",\"reading_score\",\"Overall Passing\",\"type\"]].groupby([\"type\"])"
   ]
  },
  {
   "cell_type": "code",
   "execution_count": null,
   "metadata": {},
   "outputs": [],
   "source": [
    "# find the average math and reading score for each school type & rename columns for better descriptions\n",
    "school_type_avgs_df = school_type_group[[\"math_score\",\"reading_score\"]].mean() \\\n",
    "                        .rename(columns={\"math_score\":\"Average Math Score\",\"reading_score\":\"Average Reading Score\"})"
   ]
  },
  {
   "cell_type": "code",
   "execution_count": null,
   "metadata": {},
   "outputs": [],
   "source": [
    "# find percent who pass math & reading individually using lambda function & rename columns for better descriptions\n",
    "school_type_pass_df = school_type_group[[\"math_score\",\"reading_score\"]].apply(lambda x: ((x>=70).sum()) / x.count() * 100) \\\n",
    "                        .rename(columns={\"math_score\":\"% Passing Math\",\"reading_score\":\"% Passing Reading\"})"
   ]
  },
  {
   "cell_type": "code",
   "execution_count": null,
   "metadata": {},
   "outputs": [],
   "source": [
    "# calculate percent of students who are passing overall in groupby\n",
    "# sum only counts True values, count counts both True and False values\n",
    "school_type_pass_perc = school_type_group[\"Overall Passing\"].sum() / school_type_group[\"Overall Passing\"].count() * 100"
   ]
  },
  {
   "cell_type": "code",
   "execution_count": null,
   "metadata": {},
   "outputs": [],
   "source": [
    "# create new dataframe by merging average grades & individual pass percentages\n",
    "school_type_df = pd.merge(school_type_avgs_df, school_type_pass_df, on=\"type\")\n",
    "\n",
    "# merge overall pass percent into the new dataframe from above & reset the index\n",
    "school_type_df = pd.merge(school_type_df, school_type_pass_perc, on=\"type\").reset_index()\n",
    "\n",
    "# rename columns for better descriptions & set School Type as index\n",
    "school_type_df = school_type_df.rename(columns={\"type\":\"School Type\", \"Overall Passing\":\"% Overall Passing\"}).set_index(\"School Type\")"
   ]
  },
  {
   "cell_type": "code",
   "execution_count": null,
   "metadata": {},
   "outputs": [],
   "source": [
    "# format all columns as needed\n",
    "school_type_df[\"Average Math Score\"] = school_type_df[\"Average Math Score\"].map(\"{:.6f}\".format)\n",
    "school_type_df[\"Average Reading Score\"] = school_type_df[\"Average Reading Score\"].map(\"{:.6f}\".format)\n",
    "school_type_df[\"% Passing Math\"] = school_type_df[\"% Passing Math\"].map(\"{:.2f}\".format)\n",
    "school_type_df[\"% Passing Reading\"] = school_type_df[\"% Passing Reading\"].map(\"{:.6f}\".format)\n",
    "school_type_df[\"% Overall Passing\"] = school_type_df[\"% Overall Passing\"].map(\"{:.6f}\".format)\n",
    "\n",
    "# show dataframe output\n",
    "school_type_df"
   ]
  }
 ],
 "metadata": {
  "anaconda-cloud": {},
  "kernel_info": {
   "name": "python3"
  },
  "kernelspec": {
   "display_name": "Python 3 (ipykernel)",
   "language": "python",
   "name": "python3"
  },
  "language_info": {
   "codemirror_mode": {
    "name": "ipython",
    "version": 3
   },
   "file_extension": ".py",
   "mimetype": "text/x-python",
   "name": "python",
   "nbconvert_exporter": "python",
   "pygments_lexer": "ipython3",
   "version": "3.9.7"
  },
  "latex_envs": {
   "LaTeX_envs_menu_present": true,
   "autoclose": false,
   "autocomplete": true,
   "bibliofile": "biblio.bib",
   "cite_by": "apalike",
   "current_citInitial": 1,
   "eqLabelWithNumbers": true,
   "eqNumInitial": 1,
   "hotkeys": {
    "equation": "Ctrl-E",
    "itemize": "Ctrl-I"
   },
   "labels_anchors": false,
   "latex_user_defs": false,
   "report_style_numbering": false,
   "user_envs_cfg": false
  },
  "nteract": {
   "version": "0.8.4"
  }
 },
 "nbformat": 4,
 "nbformat_minor": 1
}
