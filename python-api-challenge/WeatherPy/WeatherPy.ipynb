{
 "cells": [
  {
   "cell_type": "markdown",
   "metadata": {},
   "source": [
    "# WeatherPy\n",
    "----\n",
    "\n",
    "#### Note\n",
    "* Instructions have been included for each segment. You do not have to follow them exactly, but they are included to help you think through the steps."
   ]
  },
  {
   "cell_type": "code",
   "execution_count": 31,
   "metadata": {
    "scrolled": true
   },
   "outputs": [],
   "source": [
    "# Dependencies and Setup\n",
    "import matplotlib.pyplot as plt\n",
    "import pandas as pd\n",
    "import numpy as np\n",
    "import requests\n",
    "import time\n",
    "from scipy.stats import linregress\n",
    "from pprint import pprint \n",
    "from datetime import datetime\n",
    "\n",
    "# Import API key\n",
    "from api_keys import weather_api_key\n",
    "\n",
    "# Incorporate citipy to determine city based on latitude and longitude\n",
    "from citipy import citipy\n",
    "\n",
    "# Output File (CSV)\n",
    "output_data_file = '/Users/rollycostillas/Desktop/upenn/homework/myrepository/python-api-challenge/cities.csv'\n",
    "\n",
    "# Range of latitudes and longitudes\n",
    "lat_range = (-90, 90)\n",
    "lng_range = (-180, 180)"
   ]
  },
  {
   "cell_type": "markdown",
   "metadata": {},
   "source": [
    "## Generate Cities List"
   ]
  },
  {
   "cell_type": "code",
   "execution_count": 32,
   "metadata": {},
   "outputs": [
    {
     "name": "stdout",
     "output_type": "stream",
     "text": [
      "619\n"
     ]
    }
   ],
   "source": [
    "# List for holding lat_lngs and cities\n",
    "lat_lngs = []\n",
    "cities = []\n",
    "\n",
    "# Create a set of random lat and lng combinations\n",
    "lats = np.random.uniform(low=-90.000, high=90.000, size=1500)\n",
    "lngs = np.random.uniform(low=-180.000, high=180.000, size=1500)\n",
    "lat_lngs = zip(lats, lngs)\n",
    "\n",
    "# Identify nearest city for each lat, lng combination\n",
    "for lat_lng in lat_lngs:\n",
    "    city = citipy.nearest_city(lat_lng[0], lat_lng[1]).city_name\n",
    "    \n",
    "    # If the city is unique, then add it to our cities list\n",
    "    if city not in cities:\n",
    "        cities.append(city)\n",
    "\n",
    "# Print the city count to confirm sufficient count\n",
    "lat_lngs_list = list(lat_lngs)\n",
    "\n",
    "# print number of cities in the final list\n",
    "print(len(cities))"
   ]
  },
  {
   "cell_type": "markdown",
   "metadata": {},
   "source": [
    "### Perform API Calls\n",
    "* Perform a weather check on each city using a series of successive API calls.\n",
    "* Include a print log of each city as it'sbeing processed (with the city number and city name).\n"
   ]
  },
  {
   "cell_type": "code",
   "execution_count": 33,
   "metadata": {},
   "outputs": [
    {
     "name": "stdout",
     "output_type": "stream",
     "text": [
      "City 1|ayame\n",
      "City 2|vaini\n",
      "City 3|mecca\n",
      "City not found. skipping.\n",
      "City 4|khatassy\n",
      "City not found. skipping.\n",
      "City 5|upernavik\n",
      "City 6|bredasdorp\n",
      "City 7|bluff\n",
      "City 8|puerto ayora\n",
      "City 9|nemuro\n",
      "City 10|ancud\n",
      "City 11|banes\n",
      "City 12|esperance\n",
      "City 13|pinawa\n",
      "City 14|tonstad\n",
      "City 15|punta arenas\n",
      "City 16|hobart\n",
      "City 17|ushuaia\n",
      "City 18|duekoue\n",
      "City 19|mataura\n",
      "City 20|georgetown\n",
      "City 21|preeceville\n",
      "City 22|laguna\n",
      "City 23|nikolskoye\n",
      "City 24|butaritari\n",
      "City 25|troitsko-pechorsk\n",
      "City 26|carnarvon\n",
      "City 27|kjollefjord\n",
      "City 28|cape town\n",
      "City 29|tuktoyaktuk\n",
      "City 30|castro\n",
      "City 31|bjornevatn\n",
      "City 32|jamestown\n",
      "City 33|pozo colorado\n",
      "City 34|thompson\n",
      "City 35|hohhot\n",
      "City 36|isangel\n",
      "City 37|poum\n",
      "City 38|trairi\n",
      "City 39|tasiilaq\n",
      "City 40|barrow\n",
      "City not found. skipping.\n",
      "City not found. skipping.\n",
      "City 41|berbera\n",
      "City 42|rocha\n",
      "City 43|oriximina\n",
      "City 44|anadyr\n",
      "City 45|rikitea\n",
      "City 46|sakata\n",
      "City not found. skipping.\n",
      "City 47|sangar\n",
      "City 48|busselton\n",
      "City not found. skipping.\n",
      "City 49|saint-philippe\n",
      "City 50|kapaa\n",
      "City not found. skipping.\n",
      "City 51|parabel\n",
      "City 52|deputatskiy\n",
      "City 53|shubarshi\n",
      "City 54|albany\n",
      "City 55|kolyvan\n",
      "City not found. skipping.\n",
      "City 56|staryy nadym\n",
      "City 57|avarua\n",
      "City 58|hermanus\n",
      "City not found. skipping.\n",
      "City 59|chokurdakh\n",
      "City 60|provideniya\n",
      "City 61|hithadhoo\n",
      "City 62|ahipara\n",
      "City 63|yellowknife\n",
      "City 64|opuwo\n",
      "City 65|port alfred\n",
      "City 66|arraial do cabo\n",
      "City 67|hilo\n",
      "City 68|klyuchi\n",
      "City 69|lorengau\n",
      "City 70|bambous virieux\n",
      "City 71|ust-tsilma\n",
      "City 72|suntar\n",
      "City 73|makokou\n",
      "City 74|tateyama\n",
      "City not found. skipping.\n",
      "City 75|manokwari\n",
      "City 76|fare\n",
      "City not found. skipping.\n",
      "City 77|lang son\n",
      "City 78|barkly west\n",
      "City 79|beringovskiy\n",
      "City 80|kursavka\n",
      "City 81|sisimiut\n",
      "City 82|padang\n",
      "City 83|port elizabeth\n",
      "City 84|atuona\n",
      "City 85|semme\n",
      "City 86|cabo san lucas\n",
      "City 87|le port\n",
      "City 88|san blas\n",
      "City 89|tilichiki\n",
      "City 90|tahta\n",
      "City 91|aklavik\n",
      "City 92|camabatela\n",
      "City 93|mana\n",
      "City not found. skipping.\n",
      "City 94|camana\n",
      "City 95|urupes\n",
      "City 96|new norfolk\n",
      "City 97|san patricio\n",
      "City 98|ghanzi\n",
      "City 99|nuevo laredo\n",
      "City 100|grindavik\n",
      "City 101|mogadishu\n",
      "City 102|harsin\n",
      "City 103|noumea\n",
      "City not found. skipping.\n",
      "City 104|namibe\n",
      "City 105|pervomayskoye\n",
      "City 106|bridlington\n",
      "City 107|capao da canoa\n",
      "City 108|ribeira grande\n",
      "City 109|rio gallegos\n",
      "City 110|nyurba\n",
      "City 111|victoria\n",
      "City 112|mbalmayo\n",
      "City 113|luba\n",
      "City not found. skipping.\n",
      "City not found. skipping.\n",
      "City 114|vostok\n",
      "City 115|narsaq\n",
      "City 116|pevek\n",
      "City 117|raudeberg\n",
      "City 118|shu\n",
      "City 119|sao joao da barra\n",
      "City 120|torbay\n",
      "City 121|gao\n",
      "City 122|grand gaube\n",
      "City 123|vestmannaeyjar\n",
      "City not found. skipping.\n",
      "City 124|honiara\n",
      "City 125|lebu\n",
      "City 126|kushmurun\n",
      "City 127|sao filipe\n",
      "City 128|yulara\n",
      "City 129|clyde river\n",
      "City 130|smirnykh\n",
      "City 131|trelew\n",
      "City 132|ridgecrest\n",
      "City 133|bonthe\n",
      "City 134|ilulissat\n",
      "City 135|tamandare\n",
      "City 136|lata\n",
      "City 137|cayenne\n",
      "City 138|flinders\n",
      "City 139|nome\n",
      "City 140|tara\n",
      "City 141|panaba\n",
      "City 142|cidreira\n",
      "City 143|juneau\n",
      "City 144|yanam\n",
      "City 145|naze\n",
      "City 146|luau\n",
      "City not found. skipping.\n",
      "City 147|eagle\n",
      "City 148|lawrenceburg\n",
      "City 149|shadegan\n",
      "City 150|yumen\n",
      "City 151|wattegama\n",
      "City 152|bathsheba\n",
      "City not found. skipping.\n",
      "City 153|ballina\n",
      "City 154|beyneu\n",
      "City 155|gimli\n",
      "City 156|linguere\n",
      "City 157|iqaluit\n",
      "City 158|mbanza-ngungu\n",
      "City 159|amga\n",
      "City 160|sarai\n",
      "City 161|broome\n",
      "City 162|shingu\n",
      "City 163|hays\n",
      "City 164|norman wells\n",
      "City 165|labuhan\n",
      "City 166|vanimo\n",
      "City 167|petropavl\n",
      "City 168|warud\n",
      "City 169|ostrovnoy\n",
      "City 170|manzil salim\n",
      "City 171|svetlyy\n",
      "City 172|santo antonio do sudoeste\n",
      "City 173|svirstroy\n",
      "City not found. skipping.\n",
      "City 174|sao jose da coroa grande\n",
      "City 175|lamphun\n",
      "City 176|canas\n",
      "City 177|krasnoselkup\n",
      "City 178|hamilton\n",
      "City 179|sitka\n",
      "City 180|zhengjiatun\n",
      "City 181|northam\n",
      "City 182|coolum beach\n",
      "City 183|dingle\n",
      "City 184|lahat\n",
      "City 185|pitimbu\n",
      "City 186|peniche\n",
      "City 187|zhigansk\n",
      "City not found. skipping.\n",
      "City 188|shimoda\n",
      "City 189|saldanha\n",
      "City 190|bengkulu\n",
      "City 191|illapel\n",
      "City not found. skipping.\n",
      "City 192|banda aceh\n",
      "City 193|saint-augustin\n",
      "City 194|syracuse\n",
      "City 195|dunedin\n",
      "City not found. skipping.\n",
      "City 196|fort nelson\n",
      "City 197|kletskaya\n",
      "City 198|dikson\n",
      "City 199|caboolture\n",
      "City 200|abu zabad\n",
      "City 201|kavieng\n",
      "City not found. skipping.\n",
      "City 202|owando\n",
      "City 203|east london\n",
      "City 204|kulhudhuffushi\n",
      "City 205|port blair\n",
      "City 206|leningradskiy\n",
      "City 207|aleksandriyskaya\n",
      "City 208|los llanos de aridane\n",
      "City 209|altdorf\n",
      "City 210|alofi\n",
      "City 211|mersing\n",
      "City 212|itarema\n",
      "City 213|lakhtar\n",
      "City 214|lorica\n",
      "City not found. skipping.\n",
      "City 215|vestmanna\n",
      "City 216|arona\n",
      "City 217|sergeyevka\n",
      "City 218|tecoanapa\n",
      "City 219|ponta do sol\n",
      "City 220|darhan\n",
      "City 221|saint-pierre\n",
      "City not found. skipping.\n",
      "City not found. skipping.\n",
      "City 222|dali\n",
      "City 223|eyl\n",
      "City 224|nioro\n",
      "City 225|rudnichnyy\n",
      "City 226|constitucion\n",
      "City 227|evensk\n",
      "City 228|halifax\n",
      "City 229|tiksi\n",
      "City 230|mosquera\n",
      "City 231|vardo\n",
      "City not found. skipping.\n",
      "City 232|zyryanka\n",
      "City 233|chumikan\n",
      "City 234|saint anthony\n",
      "City 235|zanjan\n",
      "City 236|yar-sale\n",
      "City 237|luwingu\n",
      "City 238|san fernando\n",
      "City 239|trinidad\n",
      "City 240|guerrero negro\n",
      "City 241|khatanga\n",
      "City 242|chabahar\n",
      "City not found. skipping.\n",
      "City 243|chuy\n",
      "City 244|fortuna\n",
      "City 245|qaanaaq\n",
      "City 246|airai\n",
      "City 247|pacific grove\n",
      "City 248|ararat\n",
      "City 249|harper\n",
      "City 250|severo-kurilsk\n",
      "City 251|tyrma\n",
      "City 252|yongan\n",
      "City 253|longkou\n",
      "City 254|sinjai\n",
      "City 255|cravo norte\n",
      "City 256|faya\n",
      "City 257|zhangjiakou\n",
      "City 258|westport\n",
      "City not found. skipping.\n",
      "City 259|kruisfontein\n",
      "City 260|kutum\n",
      "City 261|aleksandrovsk-sakhalinskiy\n",
      "City 262|mount gambier\n",
      "City 263|biloela\n",
      "City 264|alugan\n",
      "City 265|menongue\n",
      "City 266|kaihua\n",
      "City 267|brae\n",
      "City 268|rjukan\n",
      "City not found. skipping.\n",
      "City 269|porto novo\n",
      "City 270|uyemskiy\n",
      "City 271|cockburn town\n",
      "City 272|wakkanai\n",
      "City 273|roma\n",
      "City 274|shimsk\n",
      "City 275|sao felix do xingu\n",
      "City 276|cedar city\n",
      "City not found. skipping.\n",
      "City 277|churapcha\n",
      "City 278|bethel\n",
      "City not found. skipping.\n",
      "City 279|nchelenge\n",
      "City 280|chegem\n",
      "City 281|kalmunai\n",
      "City 282|phalodi\n",
      "City 283|mount isa\n",
      "City 284|fukue\n",
      "City 285|krasnokamensk\n",
      "City 286|araguaina\n",
      "City 287|praia da vitoria\n",
      "City 288|san quintin\n",
      "City 289|lanzhou\n",
      "City not found. skipping.\n",
      "City not found. skipping.\n",
      "City 290|saint-joseph\n",
      "City 291|la ronge\n",
      "City 292|maple creek\n",
      "City not found. skipping.\n",
      "City 293|shelburne\n",
      "City 294|souillac\n",
      "City 295|limbang\n",
      "City 296|urubicha\n",
      "City 297|yinchuan\n",
      "City 298|puerto del rosario\n",
      "City 299|college\n",
      "City 300|sioux lookout\n",
      "City not found. skipping.\n",
      "City 301|richards bay\n",
      "City 302|yerbogachen\n",
      "City 303|guantanamo\n",
      "City 304|mareeba\n",
      "City 305|fairbanks\n",
      "City 306|nanortalik\n",
      "City 307|tamale\n",
      "City 308|grand-santi\n",
      "City 309|flin flon\n",
      "City 310|saskylakh\n",
      "City 311|burgeo\n",
      "City 312|moose factory\n",
      "City not found. skipping.\n",
      "City not found. skipping.\n",
      "City 313|sawakin\n",
      "City 314|sinnamary\n",
      "City 315|riverton\n",
      "City 316|mantua\n",
      "City 317|okhotsk\n",
      "City not found. skipping.\n",
      "City 318|aasiaat\n",
      "City 319|katsuura\n",
      "City 320|durango\n",
      "City 321|karakol\n",
      "City 322|sinfra\n",
      "City 323|vila\n",
      "City 324|mahebourg\n",
      "City 325|axim\n",
      "City 326|byron bay\n",
      "City 327|sorland\n",
      "City not found. skipping.\n",
      "City 328|kingsville\n",
      "City 329|qasigiannguit\n",
      "City 330|balatonszarszo\n",
      "City 331|kijang\n",
      "City 332|atar\n",
      "City 333|camacha\n",
      "City 334|amalapuram\n",
      "City 335|sept-iles\n",
      "City 336|russell\n",
      "City 337|frutal\n",
      "City 338|tuatapere\n",
      "City 339|walvis bay\n",
      "City 340|burnie\n",
      "City 341|bolshaya glushitsa\n",
      "City 342|bukachacha\n",
      "City 343|paamiut\n",
      "City 344|kirakira\n",
      "City 345|wuwei\n",
      "City 346|buala\n",
      "City 347|novobiryusinskiy\n",
      "City 348|murdochville\n",
      "City 349|schattdorf\n",
      "City 350|batemans bay\n",
      "City 351|george\n",
      "City 352|bor\n",
      "City 353|tabou\n",
      "City 354|muros\n",
      "City not found. skipping.\n",
      "City 355|belmonte\n",
      "City 356|malmesbury\n",
      "City 357|baijiantan\n",
      "City 358|nabire\n",
      "City 359|columbus\n",
      "City 360|sicamous\n",
      "City 361|tres arroyos\n",
      "City 362|isabela\n",
      "City 363|ketchikan\n",
      "City 364|cherskiy\n",
      "City 365|sungaipenuh\n",
      "City 366|kendari\n",
      "City 367|tura\n",
      "City 368|san pancrazio salentino\n",
      "City 369|avera\n",
      "City not found. skipping.\n",
      "City 370|moroni\n",
      "City not found. skipping.\n",
      "City 371|itoman\n",
      "City 372|lalitpur\n",
      "City 373|san cristobal\n",
      "City 374|vyartsilya\n",
      "City 375|verkh-usugli\n",
      "City 376|cortez\n",
      "City 377|coquimbo\n",
      "City 378|te anau\n",
      "City 379|curup\n",
      "City 380|nhulunbuy\n",
      "City 381|hasaki\n",
      "City 382|lobito\n",
      "City 383|antofagasta\n",
      "City 384|catuday\n",
      "City 385|meulaboh\n",
      "City 386|peachtree city\n",
      "City 387|palmerston\n",
      "City 388|mar del plata\n",
      "City 389|la suiza\n",
      "City not found. skipping.\n",
      "City 390|muscat\n"
     ]
    },
    {
     "name": "stdout",
     "output_type": "stream",
     "text": [
      "City not found. skipping.\n",
      "City 391|acarau\n",
      "City 392|ouesso\n",
      "City 393|dzhebariki-khaya\n",
      "City not found. skipping.\n",
      "City 394|great falls\n",
      "City 395|balmazujvaros\n",
      "City 396|alcudia\n",
      "City 397|kodiak\n",
      "City 398|leh\n",
      "City 399|neiafu\n",
      "City 400|zhangye\n",
      "City 401|aykhal\n",
      "City 402|lovozero\n",
      "City 403|phek\n",
      "City 404|kotido\n",
      "City 405|ust-maya\n",
      "City 406|barra patuca\n",
      "City 407|pingdingshan\n",
      "City 408|emilio carranza\n",
      "City 409|gornopravdinsk\n",
      "City 410|asau\n",
      "City 411|canelones\n",
      "City 412|vao\n",
      "City 413|bonavista\n",
      "City not found. skipping.\n",
      "City 414|chicama\n",
      "City 415|pisco\n",
      "City 416|khaniotis\n",
      "City 417|bongor\n",
      "City 418|tianpeng\n",
      "City 419|pelym\n",
      "City 420|kochi\n",
      "City 421|basco\n",
      "City 422|chalakudi\n",
      "City 423|sechenovo\n",
      "City 424|port lincoln\n",
      "City 425|griffith\n",
      "City 426|bronnoysund\n",
      "City 427|dehloran\n",
      "City 428|klaksvik\n",
      "City 429|benito juarez\n",
      "City 430|salalah\n",
      "City 431|vangaindrano\n",
      "City 432|solano\n",
      "City 433|garowe\n",
      "City 434|vila velha\n",
      "City 435|port-gentil\n",
      "City 436|chillicothe\n",
      "City 437|mugan\n",
      "City not found. skipping.\n",
      "City 438|alekseyevka\n",
      "City 439|shaowu\n",
      "City 440|umm lajj\n",
      "City 441|mallaig\n",
      "City 442|barcelos\n",
      "City 443|prieska\n",
      "City 444|bilma\n",
      "City 445|pundaguitan\n",
      "City 446|cumpas\n",
      "City 447|srivardhan\n",
      "City 448|yovon\n",
      "City 449|chegdomyn\n",
      "City 450|duluth\n",
      "City 451|gambela\n",
      "City 452|hagere selam\n",
      "City 453|faanui\n",
      "City 454|champerico\n",
      "City not found. skipping.\n",
      "City 455|longyearbyen\n",
      "City 456|half moon bay\n",
      "City 457|nakamura\n",
      "City 458|pangkalanbuun\n",
      "City 459|hongjiang\n",
      "City 460|arkhipo-osipovka\n",
      "City 461|darlington\n",
      "City 462|beloha\n",
      "City 463|talaya\n",
      "City 464|lagoa\n",
      "City 465|ixtapa\n",
      "City 466|aramil\n",
      "City 467|itacarambi\n",
      "City 468|sovetskiy\n",
      "City 469|durres\n",
      "City 470|zyryanovsk\n",
      "City 471|malinovskiy\n",
      "City 472|mehamn\n",
      "City 473|quatre cocos\n",
      "City not found. skipping.\n",
      "City 474|nelson bay\n",
      "City 475|teguldet\n",
      "City 476|maniitsoq\n",
      "City 477|encinitas\n",
      "City 478|egvekinot\n",
      "City 479|mnogovershinnyy\n",
      "City 480|luanda\n",
      "City 481|rio grande\n",
      "City 482|batagay-alyta\n",
      "City 483|balabac\n",
      "City 484|killarney\n",
      "City 485|araouane\n",
      "City 486|artyom\n",
      "City 487|luancheng\n",
      "City 488|geraldton\n",
      "City 489|kavaratti\n",
      "City 490|ludvika\n",
      "City 491|kloulklubed\n",
      "City 492|port hawkesbury\n",
      "City 493|kuito\n",
      "City 494|khislavichi\n",
      "City 495|omboue\n",
      "City 496|cuiluan\n",
      "City 497|hualmay\n",
      "City 498|namatanai\n",
      "City 499|kilindoni\n",
      "City 500|port macquarie\n",
      "City 501|santa lucia\n",
      "City 502|belyy yar\n",
      "City 503|pangody\n",
      "City 504|aswan\n",
      "City not found. skipping.\n",
      "City 505|lavrentiya\n",
      "City 506|dickinson\n",
      "City 507|salinopolis\n",
      "City 508|lewisburg\n",
      "City 509|pavlodar\n",
      "City 510|changli\n",
      "City 511|husavik\n",
      "City 512|talara\n",
      "City 513|komatipoort\n",
      "City 514|aksarka\n",
      "City 515|lindi\n",
      "City 516|komsomolskiy\n",
      "City 517|narrabri\n",
      "City 518|berlevag\n",
      "City 519|erzin\n",
      "City 520|monster\n",
      "City 521|lahaina\n",
      "City 522|broken hill\n",
      "City 523|chifeng\n",
      "City 524|gambo\n",
      "City 525|antalaha\n",
      "City 526|bolobo\n",
      "City 527|hobyo\n",
      "City 528|kyzyl-suu\n",
      "City 529|verkhoyansk\n",
      "City 530|lasa\n",
      "City 531|san juan\n",
      "City not found. skipping.\n",
      "City 532|rawson\n",
      "City 533|sibolga\n",
      "City 534|kokrajhar\n",
      "City 535|havre\n",
      "City not found. skipping.\n",
      "City 536|rabo de peixe\n",
      "City 537|blairmore\n",
      "City 538|tikapur\n",
      "City 539|sao francisco de assis\n",
      "City 540|pangnirtung\n",
      "City not found. skipping.\n",
      "City 541|mazamari\n",
      "City 542|nacogdoches\n",
      "City 543|amuntai\n",
      "City 544|diego de almagro\n",
      "City 545|capoterra\n",
      "City 546|chapais\n",
      "City 547|imbituba\n",
      "City 548|weihai\n",
      "City 549|sanand\n",
      "City 550|hammerfest\n",
      "City not found. skipping.\n",
      "City 551|methoni\n",
      "City 552|novikovo\n",
      "City 553|lompoc\n",
      "City 554|locri\n",
      "City 555|miraflores\n",
      "City 556|bagdarin\n",
      "City 557|wilmington island\n",
      "City 558|sibu\n",
      "City 559|makakilo city\n",
      "City 560|aripuana\n",
      "City 561|portland\n",
      "City 562|bodden town\n",
      "City 563|ulladulla\n",
      "City 564|port keats\n"
     ]
    }
   ],
   "source": [
    "url = \"http://api.openweathermap.org/data/2.5/weather?units=Imperial&\"\n",
    "\n",
    "#Define empty lists to store values\n",
    "cloudiness = []\n",
    "country = []\n",
    "date = []\n",
    "max_temp = []\n",
    "humidity = []\n",
    "lat = []\n",
    "lng = []\n",
    "wind_speed = []\n",
    "city_name = []\n",
    "\n",
    "#Looping through cities to make api calls using city as query\n",
    "i = 1\n",
    "for city in cities:\n",
    "    city=city\n",
    "    query_url = url + \"appid=\" + weather_api_key + \"&q=\" + city\n",
    "    response = requests.get(query_url).json()\n",
    "    \n",
    "#Extracting data. Missing data is handled by try and except  \n",
    "    try:\n",
    "        \n",
    "        cloudiness.append(response[\"clouds\"][\"all\"])\n",
    "        country.append(response[\"sys\"][\"country\"])\n",
    "        date.append(response[\"dt\"])\n",
    "        max_temp.append(response[\"main\"]['temp_max'])\n",
    "        humidity.append(response[\"main\"]['humidity'])\n",
    "        lat.append(response[\"coord\"][\"lat\"])  \n",
    "        lng.append(response[\"coord\"][\"lon\"])\n",
    "        wind_speed.append(response[\"wind\"][\"speed\"])\n",
    "        city_name.append(response[\"name\"])\n",
    "        print(f\"City {i}|{city}\")\n",
    "        i+=1\n",
    "    except (KeyError):\n",
    "        print(\"City not found. skipping.\")\n",
    "        "
   ]
  },
  {
   "cell_type": "markdown",
   "metadata": {},
   "source": [
    "### Convert Raw Data to DataFrame\n",
    "* Export the city data into a .csv.\n",
    "* Display the DataFrame"
   ]
  },
  {
   "cell_type": "code",
   "execution_count": 34,
   "metadata": {
    "scrolled": true
   },
   "outputs": [
    {
     "data": {
      "text/html": [
       "<div>\n",
       "<style scoped>\n",
       "    .dataframe tbody tr th:only-of-type {\n",
       "        vertical-align: middle;\n",
       "    }\n",
       "\n",
       "    .dataframe tbody tr th {\n",
       "        vertical-align: top;\n",
       "    }\n",
       "\n",
       "    .dataframe thead th {\n",
       "        text-align: right;\n",
       "    }\n",
       "</style>\n",
       "<table border=\"1\" class=\"dataframe\">\n",
       "  <thead>\n",
       "    <tr style=\"text-align: right;\">\n",
       "      <th></th>\n",
       "      <th>City</th>\n",
       "      <th>Cloudiness</th>\n",
       "      <th>Country</th>\n",
       "      <th>Date</th>\n",
       "      <th>Humidity</th>\n",
       "      <th>Lat</th>\n",
       "      <th>Lng</th>\n",
       "      <th>Max Temp</th>\n",
       "      <th>Wind Speed</th>\n",
       "    </tr>\n",
       "    <tr>\n",
       "      <th>City ID</th>\n",
       "      <th></th>\n",
       "      <th></th>\n",
       "      <th></th>\n",
       "      <th></th>\n",
       "      <th></th>\n",
       "      <th></th>\n",
       "      <th></th>\n",
       "      <th></th>\n",
       "      <th></th>\n",
       "    </tr>\n",
       "  </thead>\n",
       "  <tbody>\n",
       "    <tr>\n",
       "      <th>0</th>\n",
       "      <td>Ayamé</td>\n",
       "      <td>91</td>\n",
       "      <td>CI</td>\n",
       "      <td>1651769549</td>\n",
       "      <td>66</td>\n",
       "      <td>5.6083</td>\n",
       "      <td>-3.1563</td>\n",
       "      <td>85.59</td>\n",
       "      <td>6.08</td>\n",
       "    </tr>\n",
       "    <tr>\n",
       "      <th>1</th>\n",
       "      <td>Vaini</td>\n",
       "      <td>5</td>\n",
       "      <td>TO</td>\n",
       "      <td>1651769549</td>\n",
       "      <td>72</td>\n",
       "      <td>-21.2000</td>\n",
       "      <td>-175.2000</td>\n",
       "      <td>76.39</td>\n",
       "      <td>5.48</td>\n",
       "    </tr>\n",
       "    <tr>\n",
       "      <th>2</th>\n",
       "      <td>Makkah al Mukarramah</td>\n",
       "      <td>0</td>\n",
       "      <td>SA</td>\n",
       "      <td>1651769550</td>\n",
       "      <td>35</td>\n",
       "      <td>21.4267</td>\n",
       "      <td>39.8261</td>\n",
       "      <td>88.11</td>\n",
       "      <td>7.65</td>\n",
       "    </tr>\n",
       "    <tr>\n",
       "      <th>3</th>\n",
       "      <td>Khatassy</td>\n",
       "      <td>95</td>\n",
       "      <td>RU</td>\n",
       "      <td>1651769550</td>\n",
       "      <td>88</td>\n",
       "      <td>61.9036</td>\n",
       "      <td>129.6383</td>\n",
       "      <td>33.78</td>\n",
       "      <td>10.58</td>\n",
       "    </tr>\n",
       "    <tr>\n",
       "      <th>4</th>\n",
       "      <td>Upernavik</td>\n",
       "      <td>18</td>\n",
       "      <td>GL</td>\n",
       "      <td>1651769551</td>\n",
       "      <td>73</td>\n",
       "      <td>72.7868</td>\n",
       "      <td>-56.1549</td>\n",
       "      <td>15.57</td>\n",
       "      <td>6.51</td>\n",
       "    </tr>\n",
       "    <tr>\n",
       "      <th>...</th>\n",
       "      <td>...</td>\n",
       "      <td>...</td>\n",
       "      <td>...</td>\n",
       "      <td>...</td>\n",
       "      <td>...</td>\n",
       "      <td>...</td>\n",
       "      <td>...</td>\n",
       "      <td>...</td>\n",
       "      <td>...</td>\n",
       "    </tr>\n",
       "    <tr>\n",
       "      <th>559</th>\n",
       "      <td>Aripuanã</td>\n",
       "      <td>95</td>\n",
       "      <td>BR</td>\n",
       "      <td>1651769790</td>\n",
       "      <td>55</td>\n",
       "      <td>-9.1667</td>\n",
       "      <td>-60.6333</td>\n",
       "      <td>87.62</td>\n",
       "      <td>3.15</td>\n",
       "    </tr>\n",
       "    <tr>\n",
       "      <th>560</th>\n",
       "      <td>Portland</td>\n",
       "      <td>100</td>\n",
       "      <td>US</td>\n",
       "      <td>1651769703</td>\n",
       "      <td>91</td>\n",
       "      <td>45.5234</td>\n",
       "      <td>-122.6762</td>\n",
       "      <td>49.35</td>\n",
       "      <td>4.00</td>\n",
       "    </tr>\n",
       "    <tr>\n",
       "      <th>561</th>\n",
       "      <td>Bodden Town</td>\n",
       "      <td>20</td>\n",
       "      <td>KY</td>\n",
       "      <td>1651769790</td>\n",
       "      <td>66</td>\n",
       "      <td>19.2833</td>\n",
       "      <td>-81.2500</td>\n",
       "      <td>86.00</td>\n",
       "      <td>9.22</td>\n",
       "    </tr>\n",
       "    <tr>\n",
       "      <th>562</th>\n",
       "      <td>Ulladulla</td>\n",
       "      <td>21</td>\n",
       "      <td>AU</td>\n",
       "      <td>1651769791</td>\n",
       "      <td>59</td>\n",
       "      <td>-35.3500</td>\n",
       "      <td>150.4667</td>\n",
       "      <td>52.70</td>\n",
       "      <td>10.18</td>\n",
       "    </tr>\n",
       "    <tr>\n",
       "      <th>563</th>\n",
       "      <td>Port Keats</td>\n",
       "      <td>57</td>\n",
       "      <td>AU</td>\n",
       "      <td>1651769791</td>\n",
       "      <td>56</td>\n",
       "      <td>-14.2500</td>\n",
       "      <td>129.5500</td>\n",
       "      <td>80.47</td>\n",
       "      <td>5.95</td>\n",
       "    </tr>\n",
       "  </tbody>\n",
       "</table>\n",
       "<p>564 rows × 9 columns</p>\n",
       "</div>"
      ],
      "text/plain": [
       "                         City  Cloudiness Country        Date  Humidity  \\\n",
       "City ID                                                                   \n",
       "0                       Ayamé          91      CI  1651769549        66   \n",
       "1                       Vaini           5      TO  1651769549        72   \n",
       "2        Makkah al Mukarramah           0      SA  1651769550        35   \n",
       "3                    Khatassy          95      RU  1651769550        88   \n",
       "4                   Upernavik          18      GL  1651769551        73   \n",
       "...                       ...         ...     ...         ...       ...   \n",
       "559                  Aripuanã          95      BR  1651769790        55   \n",
       "560                  Portland         100      US  1651769703        91   \n",
       "561               Bodden Town          20      KY  1651769790        66   \n",
       "562                 Ulladulla          21      AU  1651769791        59   \n",
       "563                Port Keats          57      AU  1651769791        56   \n",
       "\n",
       "             Lat       Lng  Max Temp  Wind Speed  \n",
       "City ID                                           \n",
       "0         5.6083   -3.1563     85.59        6.08  \n",
       "1       -21.2000 -175.2000     76.39        5.48  \n",
       "2        21.4267   39.8261     88.11        7.65  \n",
       "3        61.9036  129.6383     33.78       10.58  \n",
       "4        72.7868  -56.1549     15.57        6.51  \n",
       "...          ...       ...       ...         ...  \n",
       "559      -9.1667  -60.6333     87.62        3.15  \n",
       "560      45.5234 -122.6762     49.35        4.00  \n",
       "561      19.2833  -81.2500     86.00        9.22  \n",
       "562     -35.3500  150.4667     52.70       10.18  \n",
       "563     -14.2500  129.5500     80.47        5.95  \n",
       "\n",
       "[564 rows x 9 columns]"
      ]
     },
     "execution_count": 34,
     "metadata": {},
     "output_type": "execute_result"
    }
   ],
   "source": [
    "# create dataframe with data generated from API calls\n",
    "city_df = pd.DataFrame({\"City\":city_name, \n",
    "                        \"Cloudiness\":cloudiness, \n",
    "                        \"Country\":country, \n",
    "                        \"Date\":date, \n",
    "                        \"Humidity\":humidity,\n",
    "                        \"Lat\":lat,\n",
    "                        \"Lng\":lng,\n",
    "                        \"Max Temp\":max_temp,\n",
    "                        \"Wind Speed\":wind_speed\n",
    "                                         })\n",
    "city_df = city_df.rename_axis('City ID')\n",
    "\n",
    "# output dataframe to csv file\n",
    "city_df.to_csv('/Users/rollycostillas/Desktop/upenn/homework/myrepository/python-api-challenge/cities.csv')\n",
    "\n",
    "#Displaying dataframe\n",
    "city_df"
   ]
  },
  {
   "cell_type": "markdown",
   "metadata": {},
   "source": [
    "## Inspect the data and remove the cities where the humidity > 100%.\n",
    "----\n",
    "Skip this step if there are no cities that have humidity > 100%. "
   ]
  },
  {
   "cell_type": "code",
   "execution_count": 35,
   "metadata": {
    "scrolled": true
   },
   "outputs": [
    {
     "data": {
      "text/html": [
       "<div>\n",
       "<style scoped>\n",
       "    .dataframe tbody tr th:only-of-type {\n",
       "        vertical-align: middle;\n",
       "    }\n",
       "\n",
       "    .dataframe tbody tr th {\n",
       "        vertical-align: top;\n",
       "    }\n",
       "\n",
       "    .dataframe thead th {\n",
       "        text-align: right;\n",
       "    }\n",
       "</style>\n",
       "<table border=\"1\" class=\"dataframe\">\n",
       "  <thead>\n",
       "    <tr style=\"text-align: right;\">\n",
       "      <th></th>\n",
       "      <th>Cloudiness</th>\n",
       "      <th>Date</th>\n",
       "      <th>Humidity</th>\n",
       "      <th>Lat</th>\n",
       "      <th>Lng</th>\n",
       "      <th>Max Temp</th>\n",
       "      <th>Wind Speed</th>\n",
       "    </tr>\n",
       "  </thead>\n",
       "  <tbody>\n",
       "    <tr>\n",
       "      <th>count</th>\n",
       "      <td>564.000000</td>\n",
       "      <td>5.640000e+02</td>\n",
       "      <td>564.000000</td>\n",
       "      <td>564.000000</td>\n",
       "      <td>564.000000</td>\n",
       "      <td>564.000000</td>\n",
       "      <td>564.000000</td>\n",
       "    </tr>\n",
       "    <tr>\n",
       "      <th>mean</th>\n",
       "      <td>58.047872</td>\n",
       "      <td>1.651770e+09</td>\n",
       "      <td>69.492908</td>\n",
       "      <td>22.118171</td>\n",
       "      <td>20.694976</td>\n",
       "      <td>62.032713</td>\n",
       "      <td>8.109787</td>\n",
       "    </tr>\n",
       "    <tr>\n",
       "      <th>std</th>\n",
       "      <td>38.414023</td>\n",
       "      <td>8.675578e+01</td>\n",
       "      <td>21.565917</td>\n",
       "      <td>33.346455</td>\n",
       "      <td>90.379642</td>\n",
       "      <td>20.781807</td>\n",
       "      <td>5.352356</td>\n",
       "    </tr>\n",
       "    <tr>\n",
       "      <th>min</th>\n",
       "      <td>0.000000</td>\n",
       "      <td>1.651769e+09</td>\n",
       "      <td>1.000000</td>\n",
       "      <td>-54.800000</td>\n",
       "      <td>-179.166700</td>\n",
       "      <td>2.880000</td>\n",
       "      <td>0.000000</td>\n",
       "    </tr>\n",
       "    <tr>\n",
       "      <th>25%</th>\n",
       "      <td>20.000000</td>\n",
       "      <td>1.651770e+09</td>\n",
       "      <td>57.000000</td>\n",
       "      <td>-3.836550</td>\n",
       "      <td>-56.605825</td>\n",
       "      <td>48.865000</td>\n",
       "      <td>4.380000</td>\n",
       "    </tr>\n",
       "    <tr>\n",
       "      <th>50%</th>\n",
       "      <td>69.500000</td>\n",
       "      <td>1.651770e+09</td>\n",
       "      <td>73.000000</td>\n",
       "      <td>27.944300</td>\n",
       "      <td>24.699050</td>\n",
       "      <td>66.355000</td>\n",
       "      <td>6.890000</td>\n",
       "    </tr>\n",
       "    <tr>\n",
       "      <th>75%</th>\n",
       "      <td>99.000000</td>\n",
       "      <td>1.651770e+09</td>\n",
       "      <td>86.250000</td>\n",
       "      <td>50.112300</td>\n",
       "      <td>102.324125</td>\n",
       "      <td>78.285000</td>\n",
       "      <td>10.702500</td>\n",
       "    </tr>\n",
       "    <tr>\n",
       "      <th>max</th>\n",
       "      <td>100.000000</td>\n",
       "      <td>1.651770e+09</td>\n",
       "      <td>100.000000</td>\n",
       "      <td>78.218600</td>\n",
       "      <td>179.316700</td>\n",
       "      <td>107.820000</td>\n",
       "      <td>31.990000</td>\n",
       "    </tr>\n",
       "  </tbody>\n",
       "</table>\n",
       "</div>"
      ],
      "text/plain": [
       "       Cloudiness          Date    Humidity         Lat         Lng  \\\n",
       "count  564.000000  5.640000e+02  564.000000  564.000000  564.000000   \n",
       "mean    58.047872  1.651770e+09   69.492908   22.118171   20.694976   \n",
       "std     38.414023  8.675578e+01   21.565917   33.346455   90.379642   \n",
       "min      0.000000  1.651769e+09    1.000000  -54.800000 -179.166700   \n",
       "25%     20.000000  1.651770e+09   57.000000   -3.836550  -56.605825   \n",
       "50%     69.500000  1.651770e+09   73.000000   27.944300   24.699050   \n",
       "75%     99.000000  1.651770e+09   86.250000   50.112300  102.324125   \n",
       "max    100.000000  1.651770e+09  100.000000   78.218600  179.316700   \n",
       "\n",
       "         Max Temp  Wind Speed  \n",
       "count  564.000000  564.000000  \n",
       "mean    62.032713    8.109787  \n",
       "std     20.781807    5.352356  \n",
       "min      2.880000    0.000000  \n",
       "25%     48.865000    4.380000  \n",
       "50%     66.355000    6.890000  \n",
       "75%     78.285000   10.702500  \n",
       "max    107.820000   31.990000  "
      ]
     },
     "execution_count": 35,
     "metadata": {},
     "output_type": "execute_result"
    }
   ],
   "source": [
    "# inspect the basic statistical values of the dataframe, paying attention to make sure no max humidity over 100\n",
    "city_df.describe()"
   ]
  },
  {
   "cell_type": "code",
   "execution_count": 36,
   "metadata": {},
   "outputs": [],
   "source": [
    "# get the indices of cities that have humidity over 100%\n",
    "bad_data = []\n",
    "\n",
    "# if any cities have humidity over 100%, print the index values of those lines\n",
    "if city_df[\"Humidity\"].max() > 100:\n",
    "    bad_data = city_df.loc[city_df[\"Humidity\"]>100, :].index.values\n",
    "    print(bad_data)"
   ]
  },
  {
   "cell_type": "code",
   "execution_count": 7,
   "metadata": {},
   "outputs": [
    {
     "data": {
      "text/html": [
       "<div>\n",
       "<style scoped>\n",
       "    .dataframe tbody tr th:only-of-type {\n",
       "        vertical-align: middle;\n",
       "    }\n",
       "\n",
       "    .dataframe tbody tr th {\n",
       "        vertical-align: top;\n",
       "    }\n",
       "\n",
       "    .dataframe thead th {\n",
       "        text-align: right;\n",
       "    }\n",
       "</style>\n",
       "<table border=\"1\" class=\"dataframe\">\n",
       "  <thead>\n",
       "    <tr style=\"text-align: right;\">\n",
       "      <th></th>\n",
       "      <th>Cloudiness</th>\n",
       "      <th>Date</th>\n",
       "      <th>Humidity</th>\n",
       "      <th>Lat</th>\n",
       "      <th>Lng</th>\n",
       "      <th>Max Temp</th>\n",
       "      <th>Wind Speed</th>\n",
       "    </tr>\n",
       "  </thead>\n",
       "  <tbody>\n",
       "    <tr>\n",
       "      <th>count</th>\n",
       "      <td>542.000000</td>\n",
       "      <td>5.420000e+02</td>\n",
       "      <td>542.000000</td>\n",
       "      <td>542.000000</td>\n",
       "      <td>542.000000</td>\n",
       "      <td>542.000000</td>\n",
       "      <td>542.000000</td>\n",
       "    </tr>\n",
       "    <tr>\n",
       "      <th>mean</th>\n",
       "      <td>55.527675</td>\n",
       "      <td>1.651760e+09</td>\n",
       "      <td>67.426199</td>\n",
       "      <td>19.745942</td>\n",
       "      <td>20.134690</td>\n",
       "      <td>64.189004</td>\n",
       "      <td>8.260867</td>\n",
       "    </tr>\n",
       "    <tr>\n",
       "      <th>std</th>\n",
       "      <td>39.932038</td>\n",
       "      <td>2.353032e+02</td>\n",
       "      <td>23.310749</td>\n",
       "      <td>33.545531</td>\n",
       "      <td>90.767519</td>\n",
       "      <td>20.583543</td>\n",
       "      <td>5.499765</td>\n",
       "    </tr>\n",
       "    <tr>\n",
       "      <th>min</th>\n",
       "      <td>0.000000</td>\n",
       "      <td>1.651759e+09</td>\n",
       "      <td>6.000000</td>\n",
       "      <td>-54.800000</td>\n",
       "      <td>-175.200000</td>\n",
       "      <td>5.590000</td>\n",
       "      <td>0.000000</td>\n",
       "    </tr>\n",
       "    <tr>\n",
       "      <th>25%</th>\n",
       "      <td>14.000000</td>\n",
       "      <td>1.651760e+09</td>\n",
       "      <td>53.000000</td>\n",
       "      <td>-6.817175</td>\n",
       "      <td>-59.321725</td>\n",
       "      <td>51.465000</td>\n",
       "      <td>4.070000</td>\n",
       "    </tr>\n",
       "    <tr>\n",
       "      <th>50%</th>\n",
       "      <td>58.500000</td>\n",
       "      <td>1.651760e+09</td>\n",
       "      <td>74.000000</td>\n",
       "      <td>24.009300</td>\n",
       "      <td>20.253900</td>\n",
       "      <td>67.925000</td>\n",
       "      <td>6.910000</td>\n",
       "    </tr>\n",
       "    <tr>\n",
       "      <th>75%</th>\n",
       "      <td>99.750000</td>\n",
       "      <td>1.651760e+09</td>\n",
       "      <td>85.000000</td>\n",
       "      <td>47.686850</td>\n",
       "      <td>105.102450</td>\n",
       "      <td>79.052500</td>\n",
       "      <td>11.232500</td>\n",
       "    </tr>\n",
       "    <tr>\n",
       "      <th>max</th>\n",
       "      <td>100.000000</td>\n",
       "      <td>1.651760e+09</td>\n",
       "      <td>100.000000</td>\n",
       "      <td>78.218600</td>\n",
       "      <td>178.416700</td>\n",
       "      <td>106.770000</td>\n",
       "      <td>28.790000</td>\n",
       "    </tr>\n",
       "  </tbody>\n",
       "</table>\n",
       "</div>"
      ],
      "text/plain": [
       "       Cloudiness          Date    Humidity         Lat         Lng  \\\n",
       "count  542.000000  5.420000e+02  542.000000  542.000000  542.000000   \n",
       "mean    55.527675  1.651760e+09   67.426199   19.745942   20.134690   \n",
       "std     39.932038  2.353032e+02   23.310749   33.545531   90.767519   \n",
       "min      0.000000  1.651759e+09    6.000000  -54.800000 -175.200000   \n",
       "25%     14.000000  1.651760e+09   53.000000   -6.817175  -59.321725   \n",
       "50%     58.500000  1.651760e+09   74.000000   24.009300   20.253900   \n",
       "75%     99.750000  1.651760e+09   85.000000   47.686850  105.102450   \n",
       "max    100.000000  1.651760e+09  100.000000   78.218600  178.416700   \n",
       "\n",
       "         Max Temp  Wind Speed  \n",
       "count  542.000000  542.000000  \n",
       "mean    64.189004    8.260867  \n",
       "std     20.583543    5.499765  \n",
       "min      5.590000    0.000000  \n",
       "25%     51.465000    4.070000  \n",
       "50%     67.925000    6.910000  \n",
       "75%     79.052500   11.232500  \n",
       "max    106.770000   28.790000  "
      ]
     },
     "execution_count": 7,
     "metadata": {},
     "output_type": "execute_result"
    }
   ],
   "source": [
    "# create new dataframe while dropping humidity outliers by index value\n",
    "clean_city_df = city_df.drop(bad_data, inplace=False)\n",
    "clean_city_df.describe()"
   ]
  },
  {
   "cell_type": "markdown",
   "metadata": {},
   "source": [
    "## Plotting the Data\n",
    "* Use proper labeling of the plots using plot titles (including date of analysis) and axes labels.\n",
    "* Save the plotted figures as .pngs."
   ]
  },
  {
   "cell_type": "markdown",
   "metadata": {},
   "source": [
    "## Latitude vs. Temperature Plot"
   ]
  },
  {
   "cell_type": "code",
   "execution_count": 39,
   "metadata": {
    "scrolled": true
   },
   "outputs": [
    {
     "data": {
      "image/png": "[encoded data removed]",
      "text/plain": [
       "<Figure size 432x288 with 1 Axes>"
      ]
     },
     "metadata": {
      "needs_background": "light"
     },
     "output_type": "display_data"
    }
   ],
   "source": [
    "#Converting Date for title of plot\n",
    "timestamp = clean_city_df[\"Date\"][0]\n",
    "converted_timestamp = datetime.utcfromtimestamp(timestamp)\n",
    "shortened_timestamp = datetime.date(converted_timestamp)\n",
    "\n",
    "#Creating plot\n",
    "plt.scatter(clean_city_df[\"Lat\"], clean_city_df[\"Max Temp\"], marker = \"o\", color = \"blue\",edgecolor = \"black\")\n",
    "plt.grid()\n",
    "plt.xlabel(\"Latitude\")\n",
    "plt.ylabel(\"Max Temperature (F)\")\n",
    "plt.title(f\"City Latitude vs. Max Temperature({shortened_timestamp})\")\n",
    "plt.savefig(\"..//WeatherPy/output_data/Fig01-Lat_vs_Temp\")\n",
    "plt.show()"
   ]
  },
  {
   "cell_type": "markdown",
   "metadata": {},
   "source": [
    "The above illustration demonstrates that there is a relationship between Latitude and Max Temp. Places closer to the equator (Latitude=0) experience extreme temperature at its peak, then as it move towards the pole temperature decreases gradually."
   ]
  },
  {
   "cell_type": "markdown",
   "metadata": {},
   "source": [
    "## Latitude vs. Humidity Plot"
   ]
  },
  {
   "cell_type": "code",
   "execution_count": 40,
   "metadata": {
    "scrolled": false
   },
   "outputs": [
    {
     "data": {
      "image/png": "[encoded data removed]",
      "text/plain": [
       "<Figure size 432x288 with 1 Axes>"
      ]
     },
     "metadata": {
      "needs_background": "light"
     },
     "output_type": "display_data"
    }
   ],
   "source": [
    "plt.scatter(clean_city_df[\"Lat\"], clean_city_df[\"Humidity\"], marker = \"o\", color = \"blue\",edgecolor = \"black\")\n",
    "plt.grid()\n",
    "plt.ylim(0, clean_city_df[\"Humidity\"].max()+50)\n",
    "plt.xlabel(\"Latitude\")\n",
    "plt.ylabel(\"Humidity(%)\")\n",
    "plt.title(f\"City Latitude vs. Humidity ({shortened_timestamp})\")\n",
    "plt.savefig(\"..//WeatherPy/output_data/Fig02-Lat_vs_Humidity\")\n",
    "plt.show()"
   ]
  },
  {
   "cell_type": "markdown",
   "metadata": {},
   "source": [
    "The above illustration does not appear to have a relationship between Latitude and Humidity."
   ]
  },
  {
   "cell_type": "markdown",
   "metadata": {},
   "source": [
    "## Latitude vs. Cloudiness Plot"
   ]
  },
  {
   "cell_type": "code",
   "execution_count": 41,
   "metadata": {
    "scrolled": false
   },
   "outputs": [
    {
     "data": {
      "image/png": "[encoded data removed]",
      "text/plain": [
       "<Figure size 432x288 with 1 Axes>"
      ]
     },
     "metadata": {
      "needs_background": "light"
     },
     "output_type": "display_data"
    }
   ],
   "source": [
    "plt.scatter(clean_city_df[\"Lat\"], clean_city_df[\"Cloudiness\"], marker = \"o\", color = \"blue\",edgecolor = \"black\")\n",
    "plt.grid()\n",
    "plt.xlabel(\"Latitude\")\n",
    "plt.ylabel(\"Cloudiness(%)\")\n",
    "plt.title(f\"City Latitude vs. Cloudiness ({shortened_timestamp})\")\n",
    "plt.savefig(\"..//WeatherPy/output_data/Fig03-Lat_vs_Cloudiness\")\n",
    "plt.show()"
   ]
  },
  {
   "cell_type": "markdown",
   "metadata": {},
   "source": [
    "The above illustration does not appear to have a relationship between Latitude and Cloudiness."
   ]
  },
  {
   "cell_type": "markdown",
   "metadata": {},
   "source": [
    "## Latitude vs. Wind Speed Plot"
   ]
  },
  {
   "cell_type": "code",
   "execution_count": 42,
   "metadata": {
    "scrolled": true
   },
   "outputs": [
    {
     "data": {
      "image/png": "[encoded data removed]",
      "text/plain": [
       "<Figure size 432x288 with 1 Axes>"
      ]
     },
     "metadata": {
      "needs_background": "light"
     },
     "output_type": "display_data"
    }
   ],
   "source": [
    "plt.scatter(clean_city_df[\"Lat\"], clean_city_df[\"Wind Speed\"], marker = \"o\", color = \"blue\",edgecolor = \"black\")\n",
    "plt.grid()\n",
    "plt.xlabel(\"Latitude\")\n",
    "plt.ylabel(\"Wind Speed(mph)\")\n",
    "plt.title(f\"City Latitude vs. Wind Speed ({shortened_timestamp})\")\n",
    "plt.savefig(\"..//WeatherPy/output_data/Fig04-Lat_vs_Windspeed\")\n",
    "plt.show()"
   ]
  },
  {
   "cell_type": "markdown",
   "metadata": {},
   "source": [
    "The above illustration does not appear to have a relationship between Latitude and Wind Speed."
   ]
  },
  {
   "cell_type": "markdown",
   "metadata": {},
   "source": [
    "## Linear Regression"
   ]
  },
  {
   "cell_type": "code",
   "execution_count": 43,
   "metadata": {},
   "outputs": [],
   "source": [
    "# create new DataFrames that only contain northern and southern hemisphere data, respectively\n",
    "Northern_Hemisphere = clean_city_df.loc[clean_city_df[\"Lat\"]>=0]\n",
    "Southern_Hemisphere = clean_city_df.loc[clean_city_df[\"Lat\"]<0]"
   ]
  },
  {
   "cell_type": "code",
   "execution_count": 44,
   "metadata": {},
   "outputs": [],
   "source": [
    "# function to generate hemisphere scatter plots with linear regressions\n",
    "def linear_reg_plot(x_values,y_values):\n",
    "    (slope, intercept, rvalue, pvalue, stderr) = linregress(x_values, y_values)\n",
    "    regress_values = x_values * slope + intercept\n",
    "    line_eq = \"y = \" + str(round(slope,2)) + \"x + \" + str(round(intercept,2))\n",
    "    plt.scatter(x_values,y_values)\n",
    "    plt.plot(x_values,regress_values,\"r-\")\n",
    "    plt.annotate(line_eq,(x_values.median(),y_values.median()),fontsize=15,color=\"red\")\n",
    "    plt.xlabel(\"Latitude\")\n",
    "    print(f\"The r-squared is: {rvalue}\")\n",
    "    plt.show()"
   ]
  },
  {
   "cell_type": "markdown",
   "metadata": {},
   "source": [
    "####  Northern Hemisphere - Max Temp vs. Latitude Linear Regression"
   ]
  },
  {
   "cell_type": "code",
   "execution_count": 45,
   "metadata": {},
   "outputs": [
    {
     "name": "stdout",
     "output_type": "stream",
     "text": [
      "The r-squared is: -0.8524719382979493\n"
     ]
    },
    {
     "data": {
      "image/png": "[encoded data removed]",
      "text/plain": [
       "<Figure size 432x288 with 1 Axes>"
      ]
     },
     "metadata": {
      "needs_background": "light"
     },
     "output_type": "display_data"
    }
   ],
   "source": [
    "# call function to print Lat vs Temp scatter & linear regression for Northern Hemisphere\n",
    "x_values = Northern_Hemisphere[\"Lat\"]\n",
    "y_values = Northern_Hemisphere[\"Max Temp\"]\n",
    "plt.ylabel(\"Max Temp (F)\")\n",
    "plt.savefig(\"..//WeatherPy/output_data/Fig05-NorthHem_CityLat_vs_MaxTemp\")\n",
    "linear_reg_plot(x_values,y_values)\n",
    "plt.show()"
   ]
  },
  {
   "cell_type": "markdown",
   "metadata": {},
   "source": [
    "####  Southern Hemisphere - Max Temp vs. Latitude Linear Regression"
   ]
  },
  {
   "cell_type": "code",
   "execution_count": 46,
   "metadata": {
    "scrolled": false
   },
   "outputs": [
    {
     "name": "stdout",
     "output_type": "stream",
     "text": [
      "The r-squared is: 0.8012535571916255\n"
     ]
    },
    {
     "data": {
      "image/png": "[encoded data removed]",
      "text/plain": [
       "<Figure size 432x288 with 1 Axes>"
      ]
     },
     "metadata": {
      "needs_background": "light"
     },
     "output_type": "display_data"
    }
   ],
   "source": [
    "# call function to print Lat vs Temp scatter & linear regression for Southern Hemisphere\n",
    "x_values = Southern_Hemisphere[\"Lat\"]\n",
    "y_values = Southern_Hemisphere[\"Max Temp\"]\n",
    "plt.ylabel(\"Max Temp (F)\")\n",
    "plt.savefig(\"..//WeatherPy/output_data/Fig06-SouthHem_CityLat_vs_MaxTemp\")\n",
    "linear_reg_plot(x_values,y_values)\n",
    "plt.show()"
   ]
  },
  {
   "cell_type": "markdown",
   "metadata": {},
   "source": [
    "Max Temp vs. Latitude Analysis\n",
    "\n",
    "In the Northern Hemisphere, the r-value demonstrates a moderate, negative relationship between latitude and max temperature. This means that as you approach the equator (Latitude = 0), the temperature tends to be higher. In the Southern Hemisphere, the r-value demonstrates a strong, positive relationship between latitude and max temperature. This means that as you approach the equator, the temperature tends to be higher. Both graphs are simulating a similar relationship: the highest temps tend to occur nearest the equator, while the lowest temps tend to occur furthest away from the equator."
   ]
  },
  {
   "cell_type": "markdown",
   "metadata": {},
   "source": [
    "####  Northern Hemisphere - Humidity (%) vs. Latitude Linear Regression"
   ]
  },
  {
   "cell_type": "code",
   "execution_count": 47,
   "metadata": {},
   "outputs": [
    {
     "name": "stdout",
     "output_type": "stream",
     "text": [
      "The r-squared is: 0.19061807007258844\n"
     ]
    },
    {
     "data": {
      "image/png": "[encoded data removed]",
      "text/plain": [
       "<Figure size 432x288 with 1 Axes>"
      ]
     },
     "metadata": {
      "needs_background": "light"
     },
     "output_type": "display_data"
    }
   ],
   "source": [
    "# call function to print Lat vs Humidity scatter & linear regression for Northern Hemisphere\n",
    "x_values = Northern_Hemisphere[\"Lat\"]\n",
    "y_values = Northern_Hemisphere[\"Humidity\"]\n",
    "plt.ylabel(\"Humidity (%)\")\n",
    "plt.savefig(\"..//WeatherPy/output_data/Fig07-NorthHem_CityLat_vs_Humidity\")\n",
    "linear_reg_plot(x_values,y_values)\n",
    "plt.show()"
   ]
  },
  {
   "cell_type": "markdown",
   "metadata": {},
   "source": [
    "####  Southern Hemisphere - Humidity (%) vs. Latitude Linear Regression"
   ]
  },
  {
   "cell_type": "code",
   "execution_count": 48,
   "metadata": {},
   "outputs": [
    {
     "name": "stdout",
     "output_type": "stream",
     "text": [
      "The r-squared is: -0.028288407954761136\n"
     ]
    },
    {
     "data": {
      "image/png": "[encoded data removed]",
      "text/plain": [
       "<Figure size 432x288 with 1 Axes>"
      ]
     },
     "metadata": {
      "needs_background": "light"
     },
     "output_type": "display_data"
    }
   ],
   "source": [
    "# call function to print Lat vs Humidity scatter & linear regression for Southern Hemisphere\n",
    "x_values = Southern_Hemisphere[\"Lat\"]\n",
    "y_values = Southern_Hemisphere[\"Humidity\"]\n",
    "plt.ylim(0, y_values.max()+100)\n",
    "plt.ylabel(\"Humidity (%)\")\n",
    "plt.savefig(\"..//WeatherPy/output_data/Fig08-SouthHem_CityLat_vs_Humidity\")\n",
    "linear_reg_plot(x_values,y_values)\n",
    "plt.show()"
   ]
  },
  {
   "cell_type": "markdown",
   "metadata": {},
   "source": [
    "Humidity vs. Latitude Analysis\n",
    "\n",
    "In both the Northern and Southern Hemispheres, the r-values demonstrate a weak/non-existent relationship between latitude and humidity. This means that there is no evidence here to support a relationship between proximity to the equator and humidity."
   ]
  },
  {
   "cell_type": "markdown",
   "metadata": {},
   "source": [
    "####  Northern Hemisphere - Cloudiness (%) vs. Latitude Linear Regression"
   ]
  },
  {
   "cell_type": "code",
   "execution_count": 49,
   "metadata": {},
   "outputs": [
    {
     "name": "stdout",
     "output_type": "stream",
     "text": [
      "The r-squared is: 0.12803205816773033\n"
     ]
    },
    {
     "data": {
      "image/png": "[encoded data removed]",
      "text/plain": [
       "<Figure size 432x288 with 1 Axes>"
      ]
     },
     "metadata": {
      "needs_background": "light"
     },
     "output_type": "display_data"
    }
   ],
   "source": [
    "# call function to print Lat vs Cloudiness scatter & linear regression for Northern Hemisphere\n",
    "x_values = Northern_Hemisphere[\"Lat\"]\n",
    "y_values = Northern_Hemisphere[\"Cloudiness\"]\n",
    "plt.ylabel(\"Cloudiness\")\n",
    "plt.savefig(\"..//WeatherPy/output_data/Fig09-NorthHem_CityLat_vs_Cloudiness\")\n",
    "linear_reg_plot(x_values,y_values)\n",
    "plt.show()"
   ]
  },
  {
   "cell_type": "markdown",
   "metadata": {},
   "source": [
    "####  Southern Hemisphere - Cloudiness (%) vs. Latitude Linear Regression"
   ]
  },
  {
   "cell_type": "code",
   "execution_count": 50,
   "metadata": {
    "scrolled": true
   },
   "outputs": [
    {
     "name": "stdout",
     "output_type": "stream",
     "text": [
      "The r-squared is: 0.22400937799856316\n"
     ]
    },
    {
     "data": {
      "image/png": "[encoded data removed]",
      "text/plain": [
       "<Figure size 432x288 with 1 Axes>"
      ]
     },
     "metadata": {
      "needs_background": "light"
     },
     "output_type": "display_data"
    }
   ],
   "source": [
    "# call function to print Lat vs Cloudiness scatter & linear regression for Southern Hemisphere\n",
    "x_values = Southern_Hemisphere[\"Lat\"]\n",
    "y_values = Southern_Hemisphere[\"Cloudiness\"]\n",
    "plt.ylabel(\"Cloudiness\")\n",
    "plt.savefig(\"..//WeatherPy/output_data/Fig10-SouthHem_CityLat_vs_Cloudiness\")\n",
    "linear_reg_plot(x_values,y_values)\n",
    "plt.show()"
   ]
  },
  {
   "cell_type": "markdown",
   "metadata": {},
   "source": [
    "Cloudiness vs. Latitude Analysis\n",
    "\n",
    "In both the Northern and Southern Hemispheres, the r-values demonstrate a weak/non-existent relationship between latitude and cloudiness. This means that there is no evidence here to support a relationship between proximity to the equator and cloudiness."
   ]
  },
  {
   "cell_type": "markdown",
   "metadata": {},
   "source": [
    "####  Northern Hemisphere - Wind Speed (mph) vs. Latitude Linear Regression"
   ]
  },
  {
   "cell_type": "code",
   "execution_count": 51,
   "metadata": {},
   "outputs": [
    {
     "name": "stdout",
     "output_type": "stream",
     "text": [
      "The r-squared is: -0.026193019037463388\n"
     ]
    },
    {
     "data": {
      "image/png": "[encoded data removed]",
      "text/plain": [
       "<Figure size 432x288 with 1 Axes>"
      ]
     },
     "metadata": {
      "needs_background": "light"
     },
     "output_type": "display_data"
    }
   ],
   "source": [
    "# call function to print Lat vs Wind Speed scatter & linear regression for Northern Hemisphere\n",
    "x_values = Northern_Hemisphere[\"Lat\"]\n",
    "y_values = Northern_Hemisphere[\"Wind Speed\"]\n",
    "plt.ylabel(\"Wind Speed\")\n",
    "plt.savefig(\"..//WeatherPy/output_data/Fig11-NorthHem_CityLat_vs_WindSpeed\")\n",
    "linear_reg_plot(x_values,y_values)\n",
    "plt.show()"
   ]
  },
  {
   "cell_type": "markdown",
   "metadata": {},
   "source": [
    "####  Southern Hemisphere - Wind Speed (mph) vs. Latitude Linear Regression"
   ]
  },
  {
   "cell_type": "code",
   "execution_count": 52,
   "metadata": {},
   "outputs": [
    {
     "name": "stdout",
     "output_type": "stream",
     "text": [
      "The r-squared is: 0.065849611672944\n"
     ]
    },
    {
     "data": {
      "image/png": "[encoded data removed]",
      "text/plain": [
       "<Figure size 432x288 with 1 Axes>"
      ]
     },
     "metadata": {
      "needs_background": "light"
     },
     "output_type": "display_data"
    }
   ],
   "source": [
    "# call function to print Lat vs Wind Speed scatter & linear regression for Southern Hemisphere\n",
    "x_values = Southern_Hemisphere[\"Lat\"]\n",
    "y_values = Southern_Hemisphere[\"Wind Speed\"]\n",
    "plt.ylabel(\"Wind Speed\")\n",
    "plt.savefig(\"..//WeatherPy/output_data/Fig12-SouthHem_CityLat_vs_WindSpeed\")\n",
    "linear_reg_plot(x_values,y_values)\n",
    "plt.show()"
   ]
  },
  {
   "cell_type": "markdown",
   "metadata": {},
   "source": [
    "Wind Speed vs. Latitude Analysis\n",
    "\n",
    "In both the Northern and Southern Hemispheres, the r-values demonstrate a weak/non-existent relationship between latitude and wind speed. This means that there is no evidence here to support a relationship between proximity to the equator and wind speed."
   ]
  },
  {
   "cell_type": "code",
   "execution_count": null,
   "metadata": {},
   "outputs": [],
   "source": []
  }
 ],
 "metadata": {
  "anaconda-cloud": {},
  "kernel_info": {
   "name": "python3"
  },
  "kernelspec": {
   "display_name": "Python 3 (ipykernel)",
   "language": "python",
   "name": "python3"
  },
  "language_info": {
   "codemirror_mode": {
    "name": "ipython",
    "version": 3
   },
   "file_extension": ".py",
   "mimetype": "text/x-python",
   "name": "python",
   "nbconvert_exporter": "python",
   "pygments_lexer": "ipython3",
   "version": "3.9.7"
  },
  "latex_envs": {
   "LaTeX_envs_menu_present": true,
   "autoclose": false,
   "autocomplete": true,
   "bibliofile": "biblio.bib",
   "cite_by": "apalike",
   "current_citInitial": 1,
   "eqLabelWithNumbers": true,
   "eqNumInitial": 1,
   "hotkeys": {
    "equation": "Ctrl-E",
    "itemize": "Ctrl-I"
   },
   "labels_anchors": false,
   "latex_user_defs": false,
   "report_style_numbering": false,
   "user_envs_cfg": false
  },
  "nteract": {
   "version": "0.12.3"
  }
 },
 "nbformat": 4,
 "nbformat_minor": 2
}
