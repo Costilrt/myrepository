{
 "cells": [
  {
   "cell_type": "markdown",
   "metadata": {},
   "source": [
    "# WeatherPy\n",
    "----\n",
    "\n",
    "#### Note\n",
    "* Instructions have been included for each segment. You do not have to follow them exactly, but they are included to help you think through the steps."
   ]
  },
  {
   "cell_type": "code",
   "execution_count": 1,
   "metadata": {
    "scrolled": true
   },
   "outputs": [],
   "source": [
    "# Dependencies and Setup\n",
    "import matplotlib.pyplot as plt\n",
    "import pandas as pd\n",
    "import numpy as np\n",
    "import requests\n",
    "import time\n",
    "from scipy.stats import linregress\n",
    "from pprint import pprint \n",
    "from datetime import datetime\n",
    "\n",
    "# Import API key\n",
    "from api_keys import weather_api_key\n",
    "\n",
    "# Incorporate citipy to determine city based on latitude and longitude\n",
    "from citipy import citipy\n",
    "\n",
    "# Output File (CSV)\n",
    "output_data_file = '/Users/rollycostillas/Desktop/upenn/homework/myrepository/python-api-challenge/cities.csv'\n",
    "\n",
    "# Range of latitudes and longitudes\n",
    "lat_range = (-90, 90)\n",
    "lng_range = (-180, 180)"
   ]
  },
  {
   "cell_type": "markdown",
   "metadata": {},
   "source": [
    "## Generate Cities List"
   ]
  },
  {
   "cell_type": "code",
   "execution_count": 2,
   "metadata": {},
   "outputs": [
    {
     "name": "stdout",
     "output_type": "stream",
     "text": [
      "602\n"
     ]
    }
   ],
   "source": [
    "# List for holding lat_lngs and cities\n",
    "lat_lngs = []\n",
    "cities = []\n",
    "\n",
    "# Create a set of random lat and lng combinations\n",
    "lats = np.random.uniform(low=-90.000, high=90.000, size=1500)\n",
    "lngs = np.random.uniform(low=-180.000, high=180.000, size=1500)\n",
    "lat_lngs = zip(lats, lngs)\n",
    "\n",
    "# Identify nearest city for each lat, lng combination\n",
    "for lat_lng in lat_lngs:\n",
    "    city = citipy.nearest_city(lat_lng[0], lat_lng[1]).city_name\n",
    "    \n",
    "    # If the city is unique, then add it to our cities list\n",
    "    if city not in cities:\n",
    "        cities.append(city)\n",
    "\n",
    "# Print the city count to confirm sufficient count\n",
    "lat_lngs_list = list(lat_lngs)\n",
    "\n",
    "# print number of cities in the final list\n",
    "print(len(cities))"
   ]
  },
  {
   "cell_type": "markdown",
   "metadata": {},
   "source": [
    "### Perform API Calls\n",
    "* Perform a weather check on each city using a series of successive API calls.\n",
    "* Include a print log of each city as it'sbeing processed (with the city number and city name).\n"
   ]
  },
  {
   "cell_type": "code",
   "execution_count": 3,
   "metadata": {},
   "outputs": [
    {
     "name": "stdout",
     "output_type": "stream",
     "text": [
      "City not found. skipping.\n",
      "City 1|busselton\n",
      "City 2|asau\n",
      "City 3|jiuquan\n",
      "City 4|butaritari\n",
      "City 5|port lincoln\n",
      "City 6|lasa\n",
      "City 7|pedernales\n",
      "City not found. skipping.\n",
      "City 8|changji\n",
      "City not found. skipping.\n",
      "City 9|hithadhoo\n",
      "City 10|qaanaaq\n",
      "City 11|kodiak\n",
      "City 12|ushuaia\n",
      "City 13|vila velha\n",
      "City 14|mahebourg\n",
      "City 15|ulladulla\n",
      "City 16|bengkulu\n",
      "City 17|yulara\n",
      "City 18|kapaa\n",
      "City 19|tuktoyaktuk\n",
      "City 20|biltine\n",
      "City 21|la ronge\n",
      "City 22|rikitea\n",
      "City 23|carnarvon\n",
      "City 24|anshan\n",
      "City 25|cam ranh\n",
      "City 26|rio grande\n",
      "City 27|hirado\n",
      "City 28|namatanai\n",
      "City 29|thompson\n",
      "City 30|tura\n",
      "City 31|albany\n",
      "City 32|kieta\n",
      "City 33|vaini\n",
      "City 34|cayenne\n",
      "City 35|punta arenas\n",
      "City 36|colares\n",
      "City 37|castro\n",
      "City 38|provideniya\n",
      "City 39|abaete\n",
      "City 40|sur\n",
      "City 41|nueve de julio\n",
      "City 42|jamestown\n",
      "City 43|hermanus\n",
      "City 44|tias\n",
      "City 45|yellowknife\n",
      "City 46|vao\n",
      "City 47|chokurdakh\n",
      "City 48|buala\n",
      "City 49|severodvinsk\n",
      "City 50|termoli\n",
      "City 51|faanui\n",
      "City 52|arraial do cabo\n",
      "City 53|tasiilaq\n",
      "City 54|saint-philippe\n",
      "City 55|mantua\n",
      "City 56|hay river\n",
      "City 57|vestmannaeyjar\n",
      "City 58|mataura\n",
      "City 59|new norfolk\n",
      "City 60|kachug\n",
      "City not found. skipping.\n",
      "City 61|bantry\n",
      "City 62|tobermory\n",
      "City 63|aklavik\n",
      "City 64|eydhafushi\n",
      "City 65|atascadero\n",
      "City 66|reconquista\n",
      "City 67|atuona\n",
      "City 68|mehamn\n",
      "City 69|iqaluit\n",
      "City not found. skipping.\n",
      "City 70|saskylakh\n",
      "City 71|puerto ayora\n",
      "City 72|kang\n",
      "City 73|cockburn town\n",
      "City 74|imeni poliny osipenko\n",
      "City 75|saint george\n",
      "City 76|necochea\n",
      "City 77|zeya\n",
      "City 78|bermeo\n",
      "City 79|locri\n",
      "City 80|umm kaddadah\n",
      "City 81|codrington\n",
      "City 82|chicama\n",
      "City 83|laguna\n",
      "City not found. skipping.\n",
      "City 84|lebu\n",
      "City 85|weyburn\n",
      "City 86|bredasdorp\n",
      "City 87|bluff\n",
      "City 88|bani\n",
      "City 89|neiafu\n",
      "City 90|roebourne\n",
      "City 91|siemiatycze\n",
      "City 92|lagoa\n",
      "City 93|whitehorse\n",
      "City 94|guerrero negro\n",
      "City 95|sao filipe\n",
      "City 96|padang\n",
      "City 97|te anau\n",
      "City 98|cape town\n",
      "City 99|barrow\n",
      "City 100|klaksvik\n",
      "City 101|pevek\n",
      "City 102|carmaux\n",
      "City 103|vostok\n",
      "City 104|esso\n",
      "City not found. skipping.\n",
      "City 105|beringovskiy\n",
      "City 106|nikolskoye\n",
      "City 107|east london\n",
      "City 108|cherskiy\n",
      "City 109|ambilobe\n",
      "City 110|ketchikan\n",
      "City 111|los llanos de aridane\n",
      "City 112|komsomolskiy\n",
      "City 113|axim\n",
      "City 114|lompoc\n",
      "City 115|esperance\n",
      "City 116|port elizabeth\n",
      "City 117|riyadh\n",
      "City not found. skipping.\n",
      "City not found. skipping.\n",
      "City 118|narsaq\n",
      "City 119|sidi ali\n",
      "City 120|cetate\n",
      "City 121|faya\n",
      "City 122|half moon bay\n",
      "City 123|shaygino\n",
      "City 124|saint-augustin\n",
      "City 125|rio gallegos\n",
      "City 126|noumea\n",
      "City 127|victoria\n",
      "City 128|kaitangata\n",
      "City 129|caapucu\n",
      "City 130|grindavik\n",
      "City 131|oranjemund\n",
      "City 132|chuy\n",
      "City 133|ust-kuyga\n",
      "City not found. skipping.\n",
      "City 134|sao joao da barra\n",
      "City 135|hofn\n",
      "City 136|torbay\n",
      "City not found. skipping.\n",
      "City 137|santa cruz de la palma\n",
      "City 138|puri\n",
      "City not found. skipping.\n",
      "City 139|sehithwa\n",
      "City 140|takoradi\n",
      "City 141|calabozo\n",
      "City 142|urumqi\n",
      "City 143|richards bay\n",
      "City 144|ossora\n",
      "City 145|upernavik\n",
      "City 146|saint-pierre\n",
      "City 147|douentza\n",
      "City 148|constitucion\n",
      "City not found. skipping.\n",
      "City 149|islamkot\n",
      "City 150|santa lucia\n",
      "City 151|bethel\n",
      "City 152|port macquarie\n",
      "City not found. skipping.\n",
      "City 153|salalah\n",
      "City not found. skipping.\n",
      "City 154|muli\n",
      "City 155|bambous virieux\n",
      "City 156|blairmore\n",
      "City 157|ribeira grande\n",
      "City 158|adrar\n",
      "City 159|cordoba\n",
      "City 160|isangel\n",
      "City 161|ostrovnoy\n",
      "City 162|abu dhabi\n",
      "City 163|northam\n",
      "City 164|vardo\n",
      "City 165|teknaf\n",
      "City 166|georgetown\n",
      "City 167|porto novo\n",
      "City 168|kamina\n",
      "City 169|basoko\n",
      "City 170|lakselv\n",
      "City 171|ust-maya\n",
      "City 172|haines junction\n",
      "City 173|sechura\n",
      "City 174|coquimbo\n",
      "City 175|katangli\n",
      "City not found. skipping.\n",
      "City 176|qinhuangdao\n",
      "City 177|tomatlan\n",
      "City 178|partenit\n",
      "City 179|sibu\n",
      "City 180|santiago del estero\n",
      "City 181|hasaki\n",
      "City 182|kurumkan\n",
      "City 183|kulhudhuffushi\n",
      "City 184|namibe\n",
      "City 185|hilo\n",
      "City 186|artyom\n",
      "City 187|sitka\n",
      "City 188|aljezur\n",
      "City 189|severo-kurilsk\n",
      "City 190|cidreira\n",
      "City 191|eyl\n",
      "City 192|talnakh\n",
      "City 193|farrukhnagar\n",
      "City not found. skipping.\n",
      "City 194|wenshang\n",
      "City 195|airai\n",
      "City 196|cabo san lucas\n",
      "City 197|mehran\n",
      "City 198|kavieng\n",
      "City 199|kutum\n",
      "City 200|kovdor\n",
      "City 201|san cristobal\n",
      "City 202|boysun\n",
      "City 203|luwuk\n",
      "City 204|ismailia\n",
      "City 205|lempaala\n",
      "City 206|norman wells\n",
      "City 207|hobart\n",
      "City 208|merauke\n",
      "City 209|marsh harbour\n",
      "City 210|avera\n",
      "City 211|hamilton\n",
      "City 212|eldersburg\n",
      "City 213|kruisfontein\n",
      "City 214|sovetskaya\n",
      "City 215|thunder bay\n",
      "City 216|kaka\n",
      "City 217|west bay\n",
      "City 218|makaryev\n",
      "City 219|saint anthony\n",
      "City 220|olinda\n",
      "City 221|port alfred\n",
      "City 222|khani\n",
      "City 223|neryungri\n",
      "City 224|kintampo\n",
      "City not found. skipping.\n",
      "City 225|iquique\n",
      "City 226|husavik\n",
      "City 227|russell\n",
      "City 228|urucara\n",
      "City 229|khatanga\n",
      "City 230|darnetal\n",
      "City 231|general roca\n",
      "City 232|mattru\n",
      "City 233|vrangel\n",
      "City 234|port hedland\n",
      "City not found. skipping.\n",
      "City 235|same\n",
      "City 236|mangrol\n",
      "City not found. skipping.\n",
      "City 237|chimore\n",
      "City 238|bull savanna\n",
      "City 239|shelburne\n",
      "City 240|sept-iles\n",
      "City 241|maarianhamina\n",
      "City 242|samarai\n",
      "City 243|staryy nadym\n",
      "City 244|slave lake\n",
      "City not found. skipping.\n",
      "City 245|leningradskiy\n",
      "City 246|flinders\n",
      "City 247|lavrentiya\n",
      "City not found. skipping.\n",
      "City 248|olafsvik\n",
      "City 249|bandarbeyla\n",
      "City 250|fortuna\n",
      "City 251|morant bay\n",
      "City 252|saldanha\n",
      "City 253|souillac\n",
      "City 254|saint-joseph\n",
      "City 255|fare\n",
      "City 256|mtwara\n",
      "City 257|ocampo\n",
      "City 258|najran\n",
      "City 259|vila franca do campo\n",
      "City 260|mamallapuram\n",
      "City 261|vung tau\n",
      "City 262|itarema\n",
      "City 263|kjollefjord\n",
      "City not found. skipping.\n",
      "City 264|landerneau\n",
      "City 265|jiwani\n",
      "City 266|zhezkazgan\n",
      "City 267|minsk\n",
      "City 268|cairns\n",
      "City 269|anjozorobe\n",
      "City 270|sorong\n",
      "City 271|sao felix do xingu\n",
      "City not found. skipping.\n",
      "City 272|mkushi\n",
      "City 273|naivasha\n",
      "City 274|puerto del rosario\n",
      "City 275|vangaindrano\n",
      "City 276|san quintin\n",
      "City 277|dikson\n",
      "City 278|ponta do sol\n",
      "City not found. skipping.\n",
      "City 279|anadyr\n",
      "City 280|jiehu\n",
      "City 281|touros\n",
      "City 282|kenai\n",
      "City 283|harrisonville\n",
      "City 284|springdale\n",
      "City 285|port blair\n",
      "City 286|mar del plata\n",
      "City 287|heihe\n",
      "City not found. skipping.\n",
      "City 288|forbes\n",
      "City not found. skipping.\n",
      "City 289|changping\n",
      "City 290|qaqortoq\n",
      "City 291|dillon\n",
      "City 292|huarmey\n",
      "City 293|tuatapere\n",
      "City 294|milkovo\n",
      "City 295|voyinka\n",
      "City 296|ancud\n",
      "City 297|hami\n",
      "City not found. skipping.\n",
      "City 298|atar\n",
      "City 299|yar-sale\n",
      "City 300|miri\n",
      "City 301|kismayo\n",
      "City not found. skipping.\n",
      "City not found. skipping.\n",
      "City 302|uyemskiy\n",
      "City 303|kokopo\n",
      "City 304|santa rosa\n",
      "City 305|ilulissat\n",
      "City 306|avarua\n",
      "City not found. skipping.\n",
      "City 307|viedma\n",
      "City 308|ponta delgada\n",
      "City 309|aripuana\n",
      "City not found. skipping.\n",
      "City 310|yershov\n",
      "City 311|north bend\n",
      "City 312|brighton\n",
      "City 313|parabel\n",
      "City not found. skipping.\n",
      "City 314|vadgaon\n",
      "City 315|gwembe\n",
      "City 316|kabo\n",
      "City 317|coxim\n",
      "City 318|chara\n",
      "City 319|roma\n",
      "City 320|paamiut\n",
      "City 321|farmington\n",
      "City 322|arlit\n",
      "City 323|kulachi\n",
      "City 324|seydi\n",
      "City 325|alofi\n",
      "City 326|ranong\n",
      "City 327|malanje\n",
      "City 328|serov\n",
      "City 329|belmonte\n",
      "City 330|takaungu\n",
      "City 331|geraldton\n",
      "City 332|uspenka\n",
      "City 333|sambava\n",
      "City 334|bonavista\n",
      "City 335|tiksi\n",
      "City not found. skipping.\n",
      "City 336|cururupu\n",
      "City 337|karratha\n",
      "City 338|katobu\n",
      "City not found. skipping.\n",
      "City 339|tessalit\n",
      "City 340|ambovombe\n",
      "City 341|nemuro\n",
      "City 342|maceio\n",
      "City 343|umm lajj\n",
      "City 344|umba\n",
      "City 345|serdobsk\n",
      "City 346|mareeba\n",
      "City 347|saint-georges\n",
      "City 348|kahului\n",
      "City 349|sandpoint\n",
      "City 350|chernyshevskiy\n",
      "City 351|longyearbyen\n",
      "City 352|oussouye\n",
      "City 353|pabbi\n",
      "City not found. skipping.\n",
      "City 354|yangliuqing\n",
      "City 355|san matias\n",
      "City 356|estremoz\n",
      "City 357|dumai\n",
      "City 358|alvorada\n",
      "City 359|ballina\n",
      "City 360|ahuimanu\n",
      "City 361|pemangkat\n",
      "City 362|kishi\n",
      "City 363|amapa\n",
      "City 364|sola\n",
      "City 365|ende\n",
      "City 366|gediz\n",
      "City 367|quzhou\n",
      "City 368|katsuura\n",
      "City 369|bonthe\n",
      "City not found. skipping.\n",
      "City 370|boddam\n",
      "City 371|byron bay\n",
      "City 372|assiniboia\n",
      "City 373|tres marias\n",
      "City 374|banda aceh\n",
      "City 375|cap malheureux\n",
      "City 376|stornoway\n",
      "City 377|biak\n",
      "City 378|mahibadhoo\n",
      "City 379|sapele\n",
      "City 380|dwarka\n",
      "City 381|olinala\n",
      "City 382|dunmore east\n",
      "City 383|dingle\n",
      "City 384|nanortalik\n",
      "City 385|meulaboh\n",
      "City 386|san pedro\n",
      "City 387|leninskoye\n",
      "City 388|sahbuz\n",
      "City 389|brigantine\n",
      "City 390|jijiga\n",
      "City 391|tual\n",
      "City 392|kununurra\n",
      "City 393|payo\n",
      "City 394|charlestown\n",
      "City 395|whitianga\n",
      "City 396|santa vitoria do palmar\n",
      "City not found. skipping.\n",
      "City 397|portland\n",
      "City 398|raudeberg\n",
      "City 399|ojinaga\n",
      "City 400|ichinohe\n",
      "City 401|pauini\n",
      "City 402|mount isa\n"
     ]
    },
    {
     "name": "stdout",
     "output_type": "stream",
     "text": [
      "City 403|turayf\n",
      "City 404|alice springs\n",
      "City 405|trelew\n",
      "City 406|emporia\n",
      "City 407|hambantota\n",
      "City 408|arbazh\n",
      "City 409|gilbues\n",
      "City not found. skipping.\n",
      "City 410|college\n",
      "City 411|pacific grove\n",
      "City 412|mahajanga\n",
      "City 413|sokolo\n",
      "City 414|channel-port aux basques\n",
      "City 415|samfya\n",
      "City 416|herat\n",
      "City 417|jiangyou\n",
      "City 418|elizabeth city\n",
      "City 419|surin\n",
      "City 420|comodoro rivadavia\n",
      "City 421|stephenville\n",
      "City 422|elko\n",
      "City 423|mitsamiouli\n",
      "City 424|hemsedal\n",
      "City 425|pangnirtung\n",
      "City 426|demyansk\n",
      "City 427|gold coast\n",
      "City 428|opuwo\n",
      "City 429|dakar\n",
      "City 430|sabang\n",
      "City 431|boma\n",
      "City 432|armilla\n",
      "City 433|ensenada\n",
      "City 434|udachnyy\n",
      "City 435|quatre cocos\n",
      "City 436|oksbol\n",
      "City not found. skipping.\n",
      "City 437|aykhal\n",
      "City 438|oktyabrskoye\n",
      "City 439|yamada\n",
      "City 440|iskateley\n",
      "City 441|marawi\n",
      "City 442|jacareacanga\n",
      "City 443|solnechnyy\n",
      "City 444|waldoboro\n",
      "City 445|sao jose da coroa grande\n",
      "City 446|arroyo grande\n",
      "City 447|kupang\n",
      "City 448|seoul\n",
      "City 449|moree\n",
      "City 450|kaeo\n",
      "City 451|wahiawa\n",
      "City 452|lazaro cardenas\n",
      "City 453|megion\n",
      "City 454|akdepe\n",
      "City not found. skipping.\n",
      "City 455|lucea\n",
      "City 456|shaoguan\n",
      "City 457|isla mujeres\n",
      "City 458|kloulklubed\n",
      "City 459|athabasca\n",
      "City 460|harper\n",
      "City 461|turukhansk\n",
      "City 462|putnam\n",
      "City 463|coihaique\n",
      "City 464|qasigiannguit\n",
      "City 465|upington\n",
      "City 466|mamlyutka\n",
      "City 467|bathsheba\n",
      "City 468|svetlogorsk\n",
      "City 469|kaputa\n",
      "City 470|villa carlos paz\n",
      "City 471|hualmay\n",
      "City 472|ouahigouya\n",
      "City 473|mecca\n",
      "City 474|zharkent\n",
      "City 475|kampot\n",
      "City 476|abu samrah\n",
      "City 477|gainesville\n",
      "City 478|yuksekova\n",
      "City 479|dunedin\n",
      "City not found. skipping.\n",
      "City not found. skipping.\n",
      "City 480|porto walter\n",
      "City 481|balabac\n",
      "City 482|illapel\n",
      "City 483|mackay\n",
      "City 484|adand\n",
      "City 485|walvis bay\n",
      "City 486|bealanana\n",
      "City 487|rawson\n",
      "City 488|sungairaya\n",
      "City 489|casablanca\n",
      "City 490|bawku\n",
      "City 491|worland\n",
      "City 492|tafresh\n",
      "City 493|fukue\n",
      "City 494|waitati\n",
      "City 495|beauchamps\n",
      "City 496|obihiro\n",
      "City 497|forrest city\n",
      "City 498|diu\n",
      "City 499|aswan\n",
      "City 500|peniche\n",
      "City not found. skipping.\n",
      "City 501|zelenogorskiy\n",
      "City 502|benguela\n",
      "City 503|hildesheim\n",
      "City 504|san andres\n",
      "City not found. skipping.\n",
      "City 505|placido de castro\n",
      "City 506|craig\n",
      "City 507|rognan\n",
      "City 508|abidjan\n",
      "City 509|maldonado\n",
      "City 510|tiarei\n",
      "City 511|bay roberts\n",
      "City 512|scarborough\n",
      "City 513|jizan\n",
      "City 514|gimli\n",
      "City 515|taree\n",
      "City 516|ukrayinka\n",
      "City 517|beloha\n",
      "City 518|lahar\n",
      "City 519|palana\n",
      "City 520|wanaka\n",
      "City 521|mago\n",
      "City 522|birao\n",
      "City 523|clairmont\n",
      "City 524|mayo\n",
      "City 525|okhotsk\n",
      "City 526|petropavlovsk-kamchatskiy\n",
      "City not found. skipping.\n",
      "City 527|luanda\n",
      "City 528|srednekolymsk\n",
      "City 529|nunoa\n",
      "City 530|tota\n",
      "City 531|kuzovatovo\n",
      "City not found. skipping.\n",
      "City 532|kiama\n",
      "City 533|chibombo\n",
      "City 534|mountain home\n",
      "City 535|beachwood\n",
      "City 536|hranice\n",
      "City 537|wawa\n",
      "City 538|arbroath\n",
      "City 539|muravlenko\n",
      "City 540|kimberley\n",
      "City 541|qandala\n",
      "City 542|mocuba\n",
      "City 543|lakes entrance\n",
      "City 544|fez\n",
      "City 545|manaure\n",
      "City 546|baker city\n",
      "City 547|aitape\n",
      "City 548|high level\n",
      "City 549|genhe\n",
      "City 550|doha\n",
      "City 551|manggar\n",
      "City 552|vanimo\n",
      "City 553|ponnani\n",
      "City 554|makat\n",
      "City 555|morondava\n"
     ]
    }
   ],
   "source": [
    "url = \"http://api.openweathermap.org/data/2.5/weather?units=Imperial&\"\n",
    "\n",
    "#Define empty lists to store values\n",
    "cloudiness = []\n",
    "country = []\n",
    "date = []\n",
    "max_temp = []\n",
    "humidity = []\n",
    "lat = []\n",
    "lng = []\n",
    "wind_speed = []\n",
    "city_name = []\n",
    "\n",
    "#Looping through cities to make api calls using city as query\n",
    "i = 1\n",
    "for city in cities:\n",
    "    city=city\n",
    "    query_url = url + \"appid=\" + weather_api_key + \"&q=\" + city\n",
    "    response = requests.get(query_url).json()\n",
    "    \n",
    "#Extracting data. Missing data is handled by try and except  \n",
    "    try:\n",
    "        \n",
    "        cloudiness.append(response[\"clouds\"][\"all\"])\n",
    "        country.append(response[\"sys\"][\"country\"])\n",
    "        date.append(response[\"dt\"])\n",
    "        max_temp.append(response[\"main\"]['temp_max'])\n",
    "        humidity.append(response[\"main\"]['humidity'])\n",
    "        lat.append(response[\"coord\"][\"lat\"])  \n",
    "        lng.append(response[\"coord\"][\"lon\"])\n",
    "        wind_speed.append(response[\"wind\"][\"speed\"])\n",
    "        city_name.append(response[\"name\"])\n",
    "        print(f\"City {i}|{city}\")\n",
    "        i+=1\n",
    "    except (KeyError):\n",
    "        print(\"City not found. skipping.\")\n",
    "        "
   ]
  },
  {
   "cell_type": "markdown",
   "metadata": {},
   "source": [
    "### Convert Raw Data to DataFrame\n",
    "* Export the city data into a .csv.\n",
    "* Display the DataFrame"
   ]
  },
  {
   "cell_type": "code",
   "execution_count": 4,
   "metadata": {
    "scrolled": true
   },
   "outputs": [
    {
     "data": {
      "text/html": [
       "<div>\n",
       "<style scoped>\n",
       "    .dataframe tbody tr th:only-of-type {\n",
       "        vertical-align: middle;\n",
       "    }\n",
       "\n",
       "    .dataframe tbody tr th {\n",
       "        vertical-align: top;\n",
       "    }\n",
       "\n",
       "    .dataframe thead th {\n",
       "        text-align: right;\n",
       "    }\n",
       "</style>\n",
       "<table border=\"1\" class=\"dataframe\">\n",
       "  <thead>\n",
       "    <tr style=\"text-align: right;\">\n",
       "      <th></th>\n",
       "      <th>City</th>\n",
       "      <th>Cloudiness</th>\n",
       "      <th>Country</th>\n",
       "      <th>Date</th>\n",
       "      <th>Humidity</th>\n",
       "      <th>Lat</th>\n",
       "      <th>Lng</th>\n",
       "      <th>Max Temp</th>\n",
       "      <th>Wind Speed</th>\n",
       "    </tr>\n",
       "    <tr>\n",
       "      <th>City ID</th>\n",
       "      <th></th>\n",
       "      <th></th>\n",
       "      <th></th>\n",
       "      <th></th>\n",
       "      <th></th>\n",
       "      <th></th>\n",
       "      <th></th>\n",
       "      <th></th>\n",
       "      <th></th>\n",
       "    </tr>\n",
       "  </thead>\n",
       "  <tbody>\n",
       "    <tr>\n",
       "      <th>0</th>\n",
       "      <td>Busselton</td>\n",
       "      <td>0</td>\n",
       "      <td>AU</td>\n",
       "      <td>1651779819</td>\n",
       "      <td>62</td>\n",
       "      <td>-33.6500</td>\n",
       "      <td>115.3333</td>\n",
       "      <td>54.70</td>\n",
       "      <td>13.58</td>\n",
       "    </tr>\n",
       "    <tr>\n",
       "      <th>1</th>\n",
       "      <td>Asău</td>\n",
       "      <td>12</td>\n",
       "      <td>RO</td>\n",
       "      <td>1651780099</td>\n",
       "      <td>83</td>\n",
       "      <td>46.4333</td>\n",
       "      <td>26.4000</td>\n",
       "      <td>49.28</td>\n",
       "      <td>0.78</td>\n",
       "    </tr>\n",
       "    <tr>\n",
       "      <th>2</th>\n",
       "      <td>Jiuquan</td>\n",
       "      <td>64</td>\n",
       "      <td>CN</td>\n",
       "      <td>1651780099</td>\n",
       "      <td>29</td>\n",
       "      <td>39.7432</td>\n",
       "      <td>98.5174</td>\n",
       "      <td>59.14</td>\n",
       "      <td>11.05</td>\n",
       "    </tr>\n",
       "    <tr>\n",
       "      <th>3</th>\n",
       "      <td>Butaritari</td>\n",
       "      <td>66</td>\n",
       "      <td>KI</td>\n",
       "      <td>1651779846</td>\n",
       "      <td>71</td>\n",
       "      <td>3.0707</td>\n",
       "      <td>172.7902</td>\n",
       "      <td>81.50</td>\n",
       "      <td>17.13</td>\n",
       "    </tr>\n",
       "    <tr>\n",
       "      <th>4</th>\n",
       "      <td>Port Lincoln</td>\n",
       "      <td>89</td>\n",
       "      <td>AU</td>\n",
       "      <td>1651779898</td>\n",
       "      <td>58</td>\n",
       "      <td>-34.7333</td>\n",
       "      <td>135.8667</td>\n",
       "      <td>56.01</td>\n",
       "      <td>10.47</td>\n",
       "    </tr>\n",
       "    <tr>\n",
       "      <th>...</th>\n",
       "      <td>...</td>\n",
       "      <td>...</td>\n",
       "      <td>...</td>\n",
       "      <td>...</td>\n",
       "      <td>...</td>\n",
       "      <td>...</td>\n",
       "      <td>...</td>\n",
       "      <td>...</td>\n",
       "      <td>...</td>\n",
       "    </tr>\n",
       "    <tr>\n",
       "      <th>550</th>\n",
       "      <td>Manggar</td>\n",
       "      <td>89</td>\n",
       "      <td>ID</td>\n",
       "      <td>1651780255</td>\n",
       "      <td>78</td>\n",
       "      <td>-2.8833</td>\n",
       "      <td>108.2667</td>\n",
       "      <td>80.87</td>\n",
       "      <td>2.59</td>\n",
       "    </tr>\n",
       "    <tr>\n",
       "      <th>551</th>\n",
       "      <td>Vanimo</td>\n",
       "      <td>99</td>\n",
       "      <td>PG</td>\n",
       "      <td>1651780256</td>\n",
       "      <td>90</td>\n",
       "      <td>-2.6741</td>\n",
       "      <td>141.3028</td>\n",
       "      <td>77.45</td>\n",
       "      <td>4.18</td>\n",
       "    </tr>\n",
       "    <tr>\n",
       "      <th>552</th>\n",
       "      <td>Ponnāni</td>\n",
       "      <td>100</td>\n",
       "      <td>IN</td>\n",
       "      <td>1651780256</td>\n",
       "      <td>83</td>\n",
       "      <td>10.7670</td>\n",
       "      <td>75.9252</td>\n",
       "      <td>81.72</td>\n",
       "      <td>1.77</td>\n",
       "    </tr>\n",
       "    <tr>\n",
       "      <th>553</th>\n",
       "      <td>Makat</td>\n",
       "      <td>100</td>\n",
       "      <td>KZ</td>\n",
       "      <td>1651780256</td>\n",
       "      <td>46</td>\n",
       "      <td>47.6469</td>\n",
       "      <td>53.3463</td>\n",
       "      <td>61.14</td>\n",
       "      <td>18.41</td>\n",
       "    </tr>\n",
       "    <tr>\n",
       "      <th>554</th>\n",
       "      <td>Morondava</td>\n",
       "      <td>0</td>\n",
       "      <td>MG</td>\n",
       "      <td>1651780257</td>\n",
       "      <td>77</td>\n",
       "      <td>-20.2833</td>\n",
       "      <td>44.2833</td>\n",
       "      <td>76.96</td>\n",
       "      <td>8.05</td>\n",
       "    </tr>\n",
       "  </tbody>\n",
       "</table>\n",
       "<p>555 rows × 9 columns</p>\n",
       "</div>"
      ],
      "text/plain": [
       "                 City  Cloudiness Country        Date  Humidity      Lat  \\\n",
       "City ID                                                                    \n",
       "0           Busselton           0      AU  1651779819        62 -33.6500   \n",
       "1                Asău          12      RO  1651780099        83  46.4333   \n",
       "2             Jiuquan          64      CN  1651780099        29  39.7432   \n",
       "3          Butaritari          66      KI  1651779846        71   3.0707   \n",
       "4        Port Lincoln          89      AU  1651779898        58 -34.7333   \n",
       "...               ...         ...     ...         ...       ...      ...   \n",
       "550           Manggar          89      ID  1651780255        78  -2.8833   \n",
       "551            Vanimo          99      PG  1651780256        90  -2.6741   \n",
       "552           Ponnāni         100      IN  1651780256        83  10.7670   \n",
       "553             Makat         100      KZ  1651780256        46  47.6469   \n",
       "554         Morondava           0      MG  1651780257        77 -20.2833   \n",
       "\n",
       "              Lng  Max Temp  Wind Speed  \n",
       "City ID                                  \n",
       "0        115.3333     54.70       13.58  \n",
       "1         26.4000     49.28        0.78  \n",
       "2         98.5174     59.14       11.05  \n",
       "3        172.7902     81.50       17.13  \n",
       "4        135.8667     56.01       10.47  \n",
       "...           ...       ...         ...  \n",
       "550      108.2667     80.87        2.59  \n",
       "551      141.3028     77.45        4.18  \n",
       "552       75.9252     81.72        1.77  \n",
       "553       53.3463     61.14       18.41  \n",
       "554       44.2833     76.96        8.05  \n",
       "\n",
       "[555 rows x 9 columns]"
      ]
     },
     "execution_count": 4,
     "metadata": {},
     "output_type": "execute_result"
    }
   ],
   "source": [
    "# create dataframe with data generated from API calls\n",
    "city_df = pd.DataFrame({\"City\":city_name, \n",
    "                        \"Cloudiness\":cloudiness, \n",
    "                        \"Country\":country, \n",
    "                        \"Date\":date, \n",
    "                        \"Humidity\":humidity,\n",
    "                        \"Lat\":lat,\n",
    "                        \"Lng\":lng,\n",
    "                        \"Max Temp\":max_temp,\n",
    "                        \"Wind Speed\":wind_speed\n",
    "                                         })\n",
    "city_df = city_df.rename_axis('City ID')\n",
    "\n",
    "# output dataframe to csv file\n",
    "city_df.to_csv('/Users/rollycostillas/Desktop/upenn/homework/myrepository/python-api-challenge/cities.csv')\n",
    "\n",
    "#Displaying dataframe\n",
    "city_df"
   ]
  },
  {
   "cell_type": "markdown",
   "metadata": {},
   "source": [
    "## Inspect the data and remove the cities where the humidity > 100%.\n",
    "----\n",
    "Skip this step if there are no cities that have humidity > 100%. "
   ]
  },
  {
   "cell_type": "code",
   "execution_count": 5,
   "metadata": {
    "scrolled": true
   },
   "outputs": [
    {
     "data": {
      "text/html": [
       "<div>\n",
       "<style scoped>\n",
       "    .dataframe tbody tr th:only-of-type {\n",
       "        vertical-align: middle;\n",
       "    }\n",
       "\n",
       "    .dataframe tbody tr th {\n",
       "        vertical-align: top;\n",
       "    }\n",
       "\n",
       "    .dataframe thead th {\n",
       "        text-align: right;\n",
       "    }\n",
       "</style>\n",
       "<table border=\"1\" class=\"dataframe\">\n",
       "  <thead>\n",
       "    <tr style=\"text-align: right;\">\n",
       "      <th></th>\n",
       "      <th>Cloudiness</th>\n",
       "      <th>Date</th>\n",
       "      <th>Humidity</th>\n",
       "      <th>Lat</th>\n",
       "      <th>Lng</th>\n",
       "      <th>Max Temp</th>\n",
       "      <th>Wind Speed</th>\n",
       "    </tr>\n",
       "  </thead>\n",
       "  <tbody>\n",
       "    <tr>\n",
       "      <th>count</th>\n",
       "      <td>555.000000</td>\n",
       "      <td>5.550000e+02</td>\n",
       "      <td>555.000000</td>\n",
       "      <td>555.000000</td>\n",
       "      <td>555.000000</td>\n",
       "      <td>555.000000</td>\n",
       "      <td>555.000000</td>\n",
       "    </tr>\n",
       "    <tr>\n",
       "      <th>mean</th>\n",
       "      <td>53.045045</td>\n",
       "      <td>1.651780e+09</td>\n",
       "      <td>69.814414</td>\n",
       "      <td>18.703720</td>\n",
       "      <td>18.054391</td>\n",
       "      <td>63.187279</td>\n",
       "      <td>8.288901</td>\n",
       "    </tr>\n",
       "    <tr>\n",
       "      <th>std</th>\n",
       "      <td>40.214584</td>\n",
       "      <td>1.586606e+02</td>\n",
       "      <td>21.471494</td>\n",
       "      <td>33.725574</td>\n",
       "      <td>90.711986</td>\n",
       "      <td>19.354513</td>\n",
       "      <td>5.246391</td>\n",
       "    </tr>\n",
       "    <tr>\n",
       "      <th>min</th>\n",
       "      <td>0.000000</td>\n",
       "      <td>1.651780e+09</td>\n",
       "      <td>1.000000</td>\n",
       "      <td>-54.800000</td>\n",
       "      <td>-175.200000</td>\n",
       "      <td>4.480000</td>\n",
       "      <td>0.000000</td>\n",
       "    </tr>\n",
       "    <tr>\n",
       "      <th>25%</th>\n",
       "      <td>9.000000</td>\n",
       "      <td>1.651780e+09</td>\n",
       "      <td>59.000000</td>\n",
       "      <td>-9.815850</td>\n",
       "      <td>-60.758200</td>\n",
       "      <td>51.755000</td>\n",
       "      <td>4.350000</td>\n",
       "    </tr>\n",
       "    <tr>\n",
       "      <th>50%</th>\n",
       "      <td>60.000000</td>\n",
       "      <td>1.651780e+09</td>\n",
       "      <td>75.000000</td>\n",
       "      <td>21.426700</td>\n",
       "      <td>23.750000</td>\n",
       "      <td>66.510000</td>\n",
       "      <td>7.180000</td>\n",
       "    </tr>\n",
       "    <tr>\n",
       "      <th>75%</th>\n",
       "      <td>98.000000</td>\n",
       "      <td>1.651780e+09</td>\n",
       "      <td>85.500000</td>\n",
       "      <td>47.214750</td>\n",
       "      <td>95.725350</td>\n",
       "      <td>78.770000</td>\n",
       "      <td>11.500000</td>\n",
       "    </tr>\n",
       "    <tr>\n",
       "      <th>max</th>\n",
       "      <td>100.000000</td>\n",
       "      <td>1.651780e+09</td>\n",
       "      <td>100.000000</td>\n",
       "      <td>78.218600</td>\n",
       "      <td>179.316700</td>\n",
       "      <td>99.410000</td>\n",
       "      <td>28.770000</td>\n",
       "    </tr>\n",
       "  </tbody>\n",
       "</table>\n",
       "</div>"
      ],
      "text/plain": [
       "       Cloudiness          Date    Humidity         Lat         Lng  \\\n",
       "count  555.000000  5.550000e+02  555.000000  555.000000  555.000000   \n",
       "mean    53.045045  1.651780e+09   69.814414   18.703720   18.054391   \n",
       "std     40.214584  1.586606e+02   21.471494   33.725574   90.711986   \n",
       "min      0.000000  1.651780e+09    1.000000  -54.800000 -175.200000   \n",
       "25%      9.000000  1.651780e+09   59.000000   -9.815850  -60.758200   \n",
       "50%     60.000000  1.651780e+09   75.000000   21.426700   23.750000   \n",
       "75%     98.000000  1.651780e+09   85.500000   47.214750   95.725350   \n",
       "max    100.000000  1.651780e+09  100.000000   78.218600  179.316700   \n",
       "\n",
       "         Max Temp  Wind Speed  \n",
       "count  555.000000  555.000000  \n",
       "mean    63.187279    8.288901  \n",
       "std     19.354513    5.246391  \n",
       "min      4.480000    0.000000  \n",
       "25%     51.755000    4.350000  \n",
       "50%     66.510000    7.180000  \n",
       "75%     78.770000   11.500000  \n",
       "max     99.410000   28.770000  "
      ]
     },
     "execution_count": 5,
     "metadata": {},
     "output_type": "execute_result"
    }
   ],
   "source": [
    "# inspect the basic statistical values of the dataframe, paying attention to make sure no max humidity over 100\n",
    "city_df.describe()"
   ]
  },
  {
   "cell_type": "code",
   "execution_count": 6,
   "metadata": {},
   "outputs": [],
   "source": [
    "# get the indices of cities that have humidity over 100%\n",
    "bad_data = []\n",
    "\n",
    "# if any cities have humidity over 100%, print the index values of those lines\n",
    "if city_df[\"Humidity\"].max() > 100:\n",
    "    bad_data = city_df.loc[city_df[\"Humidity\"]>100, :].index.values\n",
    "    print(bad_data)"
   ]
  },
  {
   "cell_type": "code",
   "execution_count": 7,
   "metadata": {},
   "outputs": [
    {
     "data": {
      "text/html": [
       "<div>\n",
       "<style scoped>\n",
       "    .dataframe tbody tr th:only-of-type {\n",
       "        vertical-align: middle;\n",
       "    }\n",
       "\n",
       "    .dataframe tbody tr th {\n",
       "        vertical-align: top;\n",
       "    }\n",
       "\n",
       "    .dataframe thead th {\n",
       "        text-align: right;\n",
       "    }\n",
       "</style>\n",
       "<table border=\"1\" class=\"dataframe\">\n",
       "  <thead>\n",
       "    <tr style=\"text-align: right;\">\n",
       "      <th></th>\n",
       "      <th>Cloudiness</th>\n",
       "      <th>Date</th>\n",
       "      <th>Humidity</th>\n",
       "      <th>Lat</th>\n",
       "      <th>Lng</th>\n",
       "      <th>Max Temp</th>\n",
       "      <th>Wind Speed</th>\n",
       "    </tr>\n",
       "  </thead>\n",
       "  <tbody>\n",
       "    <tr>\n",
       "      <th>count</th>\n",
       "      <td>555.000000</td>\n",
       "      <td>5.550000e+02</td>\n",
       "      <td>555.000000</td>\n",
       "      <td>555.000000</td>\n",
       "      <td>555.000000</td>\n",
       "      <td>555.000000</td>\n",
       "      <td>555.000000</td>\n",
       "    </tr>\n",
       "    <tr>\n",
       "      <th>mean</th>\n",
       "      <td>53.045045</td>\n",
       "      <td>1.651780e+09</td>\n",
       "      <td>69.814414</td>\n",
       "      <td>18.703720</td>\n",
       "      <td>18.054391</td>\n",
       "      <td>63.187279</td>\n",
       "      <td>8.288901</td>\n",
       "    </tr>\n",
       "    <tr>\n",
       "      <th>std</th>\n",
       "      <td>40.214584</td>\n",
       "      <td>1.586606e+02</td>\n",
       "      <td>21.471494</td>\n",
       "      <td>33.725574</td>\n",
       "      <td>90.711986</td>\n",
       "      <td>19.354513</td>\n",
       "      <td>5.246391</td>\n",
       "    </tr>\n",
       "    <tr>\n",
       "      <th>min</th>\n",
       "      <td>0.000000</td>\n",
       "      <td>1.651780e+09</td>\n",
       "      <td>1.000000</td>\n",
       "      <td>-54.800000</td>\n",
       "      <td>-175.200000</td>\n",
       "      <td>4.480000</td>\n",
       "      <td>0.000000</td>\n",
       "    </tr>\n",
       "    <tr>\n",
       "      <th>25%</th>\n",
       "      <td>9.000000</td>\n",
       "      <td>1.651780e+09</td>\n",
       "      <td>59.000000</td>\n",
       "      <td>-9.815850</td>\n",
       "      <td>-60.758200</td>\n",
       "      <td>51.755000</td>\n",
       "      <td>4.350000</td>\n",
       "    </tr>\n",
       "    <tr>\n",
       "      <th>50%</th>\n",
       "      <td>60.000000</td>\n",
       "      <td>1.651780e+09</td>\n",
       "      <td>75.000000</td>\n",
       "      <td>21.426700</td>\n",
       "      <td>23.750000</td>\n",
       "      <td>66.510000</td>\n",
       "      <td>7.180000</td>\n",
       "    </tr>\n",
       "    <tr>\n",
       "      <th>75%</th>\n",
       "      <td>98.000000</td>\n",
       "      <td>1.651780e+09</td>\n",
       "      <td>85.500000</td>\n",
       "      <td>47.214750</td>\n",
       "      <td>95.725350</td>\n",
       "      <td>78.770000</td>\n",
       "      <td>11.500000</td>\n",
       "    </tr>\n",
       "    <tr>\n",
       "      <th>max</th>\n",
       "      <td>100.000000</td>\n",
       "      <td>1.651780e+09</td>\n",
       "      <td>100.000000</td>\n",
       "      <td>78.218600</td>\n",
       "      <td>179.316700</td>\n",
       "      <td>99.410000</td>\n",
       "      <td>28.770000</td>\n",
       "    </tr>\n",
       "  </tbody>\n",
       "</table>\n",
       "</div>"
      ],
      "text/plain": [
       "       Cloudiness          Date    Humidity         Lat         Lng  \\\n",
       "count  555.000000  5.550000e+02  555.000000  555.000000  555.000000   \n",
       "mean    53.045045  1.651780e+09   69.814414   18.703720   18.054391   \n",
       "std     40.214584  1.586606e+02   21.471494   33.725574   90.711986   \n",
       "min      0.000000  1.651780e+09    1.000000  -54.800000 -175.200000   \n",
       "25%      9.000000  1.651780e+09   59.000000   -9.815850  -60.758200   \n",
       "50%     60.000000  1.651780e+09   75.000000   21.426700   23.750000   \n",
       "75%     98.000000  1.651780e+09   85.500000   47.214750   95.725350   \n",
       "max    100.000000  1.651780e+09  100.000000   78.218600  179.316700   \n",
       "\n",
       "         Max Temp  Wind Speed  \n",
       "count  555.000000  555.000000  \n",
       "mean    63.187279    8.288901  \n",
       "std     19.354513    5.246391  \n",
       "min      4.480000    0.000000  \n",
       "25%     51.755000    4.350000  \n",
       "50%     66.510000    7.180000  \n",
       "75%     78.770000   11.500000  \n",
       "max     99.410000   28.770000  "
      ]
     },
     "execution_count": 7,
     "metadata": {},
     "output_type": "execute_result"
    }
   ],
   "source": [
    "# create new dataframe while dropping humidity outliers by index value\n",
    "clean_city_df = city_df.drop(bad_data, inplace=False)\n",
    "clean_city_df.describe()"
   ]
  },
  {
   "cell_type": "markdown",
   "metadata": {},
   "source": [
    "## Plotting the Data\n",
    "* Use proper labeling of the plots using plot titles (including date of analysis) and axes labels.\n",
    "* Save the plotted figures as .pngs."
   ]
  },
  {
   "cell_type": "markdown",
   "metadata": {},
   "source": [
    "## Latitude vs. Temperature Plot"
   ]
  },
  {
   "cell_type": "code",
   "execution_count": 8,
   "metadata": {
    "scrolled": true
   },
   "outputs": [
    {
     "data": {
      "image/png": "[encoded data removed]",
      "text/plain": [
       "<Figure size 432x288 with 1 Axes>"
      ]
     },
     "metadata": {
      "needs_background": "light"
     },
     "output_type": "display_data"
    }
   ],
   "source": [
    "#Converting Date for title of plot\n",
    "timestamp = clean_city_df[\"Date\"][0]\n",
    "converted_timestamp = datetime.utcfromtimestamp(timestamp)\n",
    "shortened_timestamp = datetime.date(converted_timestamp)\n",
    "\n",
    "#Creating plot\n",
    "plt.scatter(clean_city_df[\"Lat\"], clean_city_df[\"Max Temp\"], marker = \"o\", color = \"blue\",edgecolor = \"black\")\n",
    "plt.grid()\n",
    "plt.xlabel(\"Latitude\")\n",
    "plt.ylabel(\"Max Temperature (F)\")\n",
    "plt.title(f\"City Latitude vs. Max Temperature({shortened_timestamp})\")\n",
    "plt.savefig(\"..//WeatherPy/output_data/Fig01-Lat_vs_Temp.png\")\n",
    "plt.show()"
   ]
  },
  {
   "cell_type": "markdown",
   "metadata": {},
   "source": [
    "The illustration above demonstrates that there is a relationship between Latitude and Max Temp. Places closer to the equator (Latitude=0) experience extreme temperature at its peak, then as it move towards the pole temperature decreases gradually."
   ]
  },
  {
   "cell_type": "markdown",
   "metadata": {},
   "source": [
    "## Latitude vs. Humidity Plot"
   ]
  },
  {
   "cell_type": "code",
   "execution_count": 9,
   "metadata": {
    "scrolled": false
   },
   "outputs": [
    {
     "data": {
      "image/png": "[encoded data removed]",
      "text/plain": [
       "<Figure size 432x288 with 1 Axes>"
      ]
     },
     "metadata": {
      "needs_background": "light"
     },
     "output_type": "display_data"
    }
   ],
   "source": [
    "plt.scatter(clean_city_df[\"Lat\"], clean_city_df[\"Humidity\"], marker = \"o\", color = \"blue\",edgecolor = \"black\")\n",
    "plt.grid()\n",
    "plt.ylim(0, clean_city_df[\"Humidity\"].max()+50)\n",
    "plt.xlabel(\"Latitude\")\n",
    "plt.ylabel(\"Humidity(%)\")\n",
    "plt.title(f\"City Latitude vs. Humidity ({shortened_timestamp})\")\n",
    "plt.savefig(\"..//WeatherPy/output_data/Fig02-Lat_vs_Humidity.png\")\n",
    "plt.show()"
   ]
  },
  {
   "cell_type": "markdown",
   "metadata": {},
   "source": [
    "The illustration above does not appear to have a relationship between Latitude and Humidity."
   ]
  },
  {
   "cell_type": "markdown",
   "metadata": {},
   "source": [
    "## Latitude vs. Cloudiness Plot"
   ]
  },
  {
   "cell_type": "code",
   "execution_count": 10,
   "metadata": {
    "scrolled": false
   },
   "outputs": [
    {
     "data": {
      "image/png": "[encoded data removed]",
      "text/plain": [
       "<Figure size 432x288 with 1 Axes>"
      ]
     },
     "metadata": {
      "needs_background": "light"
     },
     "output_type": "display_data"
    }
   ],
   "source": [
    "plt.scatter(clean_city_df[\"Lat\"], clean_city_df[\"Cloudiness\"], marker = \"o\", color = \"blue\",edgecolor = \"black\")\n",
    "plt.grid()\n",
    "plt.xlabel(\"Latitude\")\n",
    "plt.ylabel(\"Cloudiness(%)\")\n",
    "plt.title(f\"City Latitude vs. Cloudiness ({shortened_timestamp})\")\n",
    "plt.savefig(\"..//WeatherPy/output_data/Fig03-Lat_vs_Cloudiness.png\")\n",
    "plt.show()"
   ]
  },
  {
   "cell_type": "markdown",
   "metadata": {},
   "source": [
    "The illustration above does not appear to have a relationship between Latitude and Cloudiness."
   ]
  },
  {
   "cell_type": "markdown",
   "metadata": {},
   "source": [
    "## Latitude vs. Wind Speed Plot"
   ]
  },
  {
   "cell_type": "code",
   "execution_count": 11,
   "metadata": {
    "scrolled": true
   },
   "outputs": [
    {
     "data": {
      "image/png": "[encoded data removed]",
      "text/plain": [
       "<Figure size 432x288 with 1 Axes>"
      ]
     },
     "metadata": {
      "needs_background": "light"
     },
     "output_type": "display_data"
    }
   ],
   "source": [
    "plt.scatter(clean_city_df[\"Lat\"], clean_city_df[\"Wind Speed\"], marker = \"o\", color = \"blue\",edgecolor = \"black\")\n",
    "plt.grid()\n",
    "plt.xlabel(\"Latitude\")\n",
    "plt.ylabel(\"Wind Speed(mph)\")\n",
    "plt.title(f\"City Latitude vs. Wind Speed ({shortened_timestamp})\")\n",
    "plt.savefig(\"..//WeatherPy/output_data/Fig04-Lat_vs_Windspeed.png\")\n",
    "plt.show()"
   ]
  },
  {
   "cell_type": "markdown",
   "metadata": {},
   "source": [
    "The illustration above does not appear to have a relationship between Latitude and Wind Speed."
   ]
  },
  {
   "cell_type": "markdown",
   "metadata": {},
   "source": [
    "## Linear Regression"
   ]
  },
  {
   "cell_type": "code",
   "execution_count": 12,
   "metadata": {},
   "outputs": [],
   "source": [
    "# create new DataFrames that only contain northern and southern hemisphere data, respectively\n",
    "Northern_Hemisphere = clean_city_df.loc[clean_city_df[\"Lat\"]>=0]\n",
    "Southern_Hemisphere = clean_city_df.loc[clean_city_df[\"Lat\"]<0]"
   ]
  },
  {
   "cell_type": "code",
   "execution_count": 13,
   "metadata": {},
   "outputs": [],
   "source": [
    "# function to generate hemisphere scatter plots with linear regressions\n",
    "def linear_reg_plot(x_values,y_values):\n",
    "    (slope, intercept, rvalue, pvalue, stderr) = linregress(x_values, y_values)\n",
    "    regress_values = x_values * slope + intercept\n",
    "    line_eq = \"y = \" + str(round(slope,2)) + \"x + \" + str(round(intercept,2))\n",
    "    plt.scatter(x_values,y_values)\n",
    "    plt.plot(x_values,regress_values,\"r-\")\n",
    "    plt.annotate(line_eq,(x_values.median(),y_values.median()),fontsize=15,color=\"red\")\n",
    "    plt.xlabel(\"Latitude\")\n",
    "    print(f\"The r-squared is: {rvalue}\")\n",
    "    plt.show()"
   ]
  },
  {
   "cell_type": "markdown",
   "metadata": {},
   "source": [
    "####  Northern Hemisphere - Max Temp vs. Latitude Linear Regression"
   ]
  },
  {
   "cell_type": "code",
   "execution_count": 14,
   "metadata": {},
   "outputs": [
    {
     "name": "stdout",
     "output_type": "stream",
     "text": [
      "The r-squared is: -0.8693405129795497\n"
     ]
    },
    {
     "data": {
      "image/png": "[encoded data removed]",
      "text/plain": [
       "<Figure size 432x288 with 1 Axes>"
      ]
     },
     "metadata": {
      "needs_background": "light"
     },
     "output_type": "display_data"
    }
   ],
   "source": [
    "# call function to print Lat vs Temp scatter & linear regression for Northern Hemisphere\n",
    "x_values = Northern_Hemisphere[\"Lat\"]\n",
    "y_values = Northern_Hemisphere[\"Max Temp\"]\n",
    "plt.ylabel(\"Max Temp (F)\")\n",
    "plt.title(f\"Northern Hemisphere: City Latitude vs. Max Temperature ({shortened_timestamp})\")\n",
    "plt.savefig(\"..//WeatherPy/output_data/Fig05-NorthHem_CityLat_vs_MaxTemp.png\")\n",
    "linear_reg_plot(x_values,y_values)\n",
    "plt.show()"
   ]
  },
  {
   "cell_type": "markdown",
   "metadata": {},
   "source": [
    "####  Southern Hemisphere - Max Temp vs. Latitude Linear Regression"
   ]
  },
  {
   "cell_type": "code",
   "execution_count": 15,
   "metadata": {
    "scrolled": false
   },
   "outputs": [
    {
     "name": "stdout",
     "output_type": "stream",
     "text": [
      "The r-squared is: 0.6966436737371844\n"
     ]
    },
    {
     "data": {
      "image/png": "[encoded data removed]",
      "text/plain": [
       "<Figure size 432x288 with 1 Axes>"
      ]
     },
     "metadata": {
      "needs_background": "light"
     },
     "output_type": "display_data"
    }
   ],
   "source": [
    "# call function to print Lat vs Temp scatter & linear regression for Southern Hemisphere\n",
    "x_values = Southern_Hemisphere[\"Lat\"]\n",
    "y_values = Southern_Hemisphere[\"Max Temp\"]\n",
    "plt.ylabel(\"Max Temp (F)\")\n",
    "plt.title(f\"Southern Hemisphere: City Latitude vs. Max Temperature ({shortened_timestamp})\")\n",
    "plt.savefig(\"..//WeatherPy/output_data/Fig06-SouthHem_CityLat_vs_MaxTemp.png\")\n",
    "linear_reg_plot(x_values,y_values)\n",
    "plt.show()"
   ]
  },
  {
   "cell_type": "markdown",
   "metadata": {},
   "source": [
    "Maximum Temperature vs. Latitude Analysis\n",
    "\n",
    "In the Northern Hemisphere, the r-value (-0.85) shows a moderate negative correlation between latitude and max temperature which means that places in higher latitude experience drop in the maximum temperature. The data points are concentrated around the regression line. While in the Southern Hemisphere, the r-value (0.73) demonstrates a strong, positive relationship between latitude and max temperature, where the same observation is similar, the data points are scattered around the regression line."
   ]
  },
  {
   "cell_type": "markdown",
   "metadata": {},
   "source": [
    "####  Northern Hemisphere - Humidity (%) vs. Latitude Linear Regression"
   ]
  },
  {
   "cell_type": "code",
   "execution_count": 16,
   "metadata": {},
   "outputs": [
    {
     "name": "stdout",
     "output_type": "stream",
     "text": [
      "The r-squared is: 0.19143652913349463\n"
     ]
    },
    {
     "data": {
      "image/png": "[encoded data removed]",
      "text/plain": [
       "<Figure size 432x288 with 1 Axes>"
      ]
     },
     "metadata": {
      "needs_background": "light"
     },
     "output_type": "display_data"
    }
   ],
   "source": [
    "# call function to print Lat vs Humidity scatter & linear regression for Northern Hemisphere\n",
    "x_values = Northern_Hemisphere[\"Lat\"]\n",
    "y_values = Northern_Hemisphere[\"Humidity\"]\n",
    "plt.ylabel(\"Humidity (%)\")\n",
    "plt.title(f\"Northern Hemisphere: City Latitude vs. Humidity ({shortened_timestamp})\")\n",
    "plt.savefig(\"..//WeatherPy/output_data/Fig07-NorthHem_CityLat_vs_Humidity.png\")\n",
    "linear_reg_plot(x_values,y_values)\n",
    "plt.show()"
   ]
  },
  {
   "cell_type": "markdown",
   "metadata": {},
   "source": [
    "####  Southern Hemisphere - Humidity (%) vs. Latitude Linear Regression"
   ]
  },
  {
   "cell_type": "code",
   "execution_count": 17,
   "metadata": {},
   "outputs": [
    {
     "name": "stdout",
     "output_type": "stream",
     "text": [
      "The r-squared is: 0.21419577993533784\n"
     ]
    },
    {
     "data": {
      "image/png": "[encoded data removed]",
      "text/plain": [
       "<Figure size 432x288 with 1 Axes>"
      ]
     },
     "metadata": {
      "needs_background": "light"
     },
     "output_type": "display_data"
    }
   ],
   "source": [
    "# call function to print Lat vs Humidity scatter & linear regression for Southern Hemisphere\n",
    "x_values = Southern_Hemisphere[\"Lat\"]\n",
    "y_values = Southern_Hemisphere[\"Humidity\"]\n",
    "plt.ylim(0, y_values.max()+25)\n",
    "plt.ylabel(\"Humidity (%)\")\n",
    "plt.title(f\"Southern Hemisphere: City Latitude vs. Humidity ({shortened_timestamp})\")\n",
    "plt.savefig(\"..//WeatherPy/output_data/Fig08-SouthHem_CityLat_vs_Humidity.png\")\n",
    "linear_reg_plot(x_values,y_values)\n",
    "plt.show()"
   ]
  },
  {
   "cell_type": "markdown",
   "metadata": {},
   "source": [
    "Humidity vs. Latitude Analysis\n",
    "\n",
    "In both the Northern and Southern Hemispheres, the r-values demonstrate a weak relationship between latitude and humidity which means that there is no evidence to support a relationship between proximity to the equator and humidity."
   ]
  },
  {
   "cell_type": "markdown",
   "metadata": {},
   "source": [
    "####  Northern Hemisphere - Cloudiness (%) vs. Latitude Linear Regression"
   ]
  },
  {
   "cell_type": "code",
   "execution_count": 18,
   "metadata": {},
   "outputs": [
    {
     "name": "stdout",
     "output_type": "stream",
     "text": [
      "The r-squared is: 0.1123310124316784\n"
     ]
    },
    {
     "data": {
      "image/png": "[encoded data removed]",
      "text/plain": [
       "<Figure size 432x288 with 1 Axes>"
      ]
     },
     "metadata": {
      "needs_background": "light"
     },
     "output_type": "display_data"
    }
   ],
   "source": [
    "# call function to print Lat vs Cloudiness scatter & linear regression for Northern Hemisphere\n",
    "x_values = Northern_Hemisphere[\"Lat\"]\n",
    "y_values = Northern_Hemisphere[\"Cloudiness\"]\n",
    "plt.ylabel(\"Cloudiness\")\n",
    "plt.title(f\"Northern Hemisphere: City Latitude vs. Cloudiness ({shortened_timestamp})\")\n",
    "plt.savefig(\"..//WeatherPy/output_data/Fig09-NorthHem_CityLat_vs_Cloudiness.png\")\n",
    "linear_reg_plot(x_values,y_values)\n",
    "plt.show()"
   ]
  },
  {
   "cell_type": "markdown",
   "metadata": {},
   "source": [
    "####  Southern Hemisphere - Cloudiness (%) vs. Latitude Linear Regression"
   ]
  },
  {
   "cell_type": "code",
   "execution_count": 19,
   "metadata": {
    "scrolled": true
   },
   "outputs": [
    {
     "name": "stdout",
     "output_type": "stream",
     "text": [
      "The r-squared is: 0.17357799887267866\n"
     ]
    },
    {
     "data": {
      "image/png": "[encoded data removed]",
      "text/plain": [
       "<Figure size 432x288 with 1 Axes>"
      ]
     },
     "metadata": {
      "needs_background": "light"
     },
     "output_type": "display_data"
    }
   ],
   "source": [
    "# call function to print Lat vs Cloudiness scatter & linear regression for Southern Hemisphere\n",
    "x_values = Southern_Hemisphere[\"Lat\"]\n",
    "y_values = Southern_Hemisphere[\"Cloudiness\"]\n",
    "plt.ylabel(\"Cloudiness\")\n",
    "plt.title(f\"Southern Hemisphere: City Latitude vs. Cloudiness ({shortened_timestamp})\")\n",
    "plt.savefig(\"..//WeatherPy/output_data/Fig10-SouthHem_CityLat_vs_Cloudiness.png\")\n",
    "linear_reg_plot(x_values,y_values)\n",
    "plt.show()"
   ]
  },
  {
   "cell_type": "markdown",
   "metadata": {},
   "source": [
    "Cloudiness vs. Latitude Analysis\n",
    "\n",
    "In both the Northern and Southern Hemispheres, the r-values demonstrate a weak relationship between latitude and cloudiness which means that there is no evidence to support a relationship between proximity to the equator and cloudiness."
   ]
  },
  {
   "cell_type": "markdown",
   "metadata": {},
   "source": [
    "####  Northern Hemisphere - Wind Speed (mph) vs. Latitude Linear Regression"
   ]
  },
  {
   "cell_type": "code",
   "execution_count": 20,
   "metadata": {},
   "outputs": [
    {
     "name": "stdout",
     "output_type": "stream",
     "text": [
      "The r-squared is: 0.03810307162499971\n"
     ]
    },
    {
     "data": {
      "image/png": "[encoded data removed]",
      "text/plain": [
       "<Figure size 432x288 with 1 Axes>"
      ]
     },
     "metadata": {
      "needs_background": "light"
     },
     "output_type": "display_data"
    }
   ],
   "source": [
    "# call function to print Lat vs Wind Speed scatter & linear regression for Northern Hemisphere\n",
    "x_values = Northern_Hemisphere[\"Lat\"]\n",
    "y_values = Northern_Hemisphere[\"Wind Speed\"]\n",
    "plt.ylabel(\"Wind Speed\")\n",
    "plt.title(f\"Northern Hemisphere: City Latitude vs. Wind Speed ({shortened_timestamp})\")\n",
    "plt.savefig(\"..//WeatherPy/output_data/Fig11-NorthHem_CityLat_vs_WindSpeed.png\")\n",
    "linear_reg_plot(x_values,y_values)\n",
    "plt.show()"
   ]
  },
  {
   "cell_type": "markdown",
   "metadata": {},
   "source": [
    "####  Southern Hemisphere - Wind Speed (mph) vs. Latitude Linear Regression"
   ]
  },
  {
   "cell_type": "code",
   "execution_count": 21,
   "metadata": {},
   "outputs": [
    {
     "name": "stdout",
     "output_type": "stream",
     "text": [
      "The r-squared is: -0.11999377111211984\n"
     ]
    },
    {
     "data": {
      "image/png": "[encoded data removed]",
      "text/plain": [
       "<Figure size 432x288 with 1 Axes>"
      ]
     },
     "metadata": {
      "needs_background": "light"
     },
     "output_type": "display_data"
    }
   ],
   "source": [
    "# call function to print Lat vs Wind Speed scatter & linear regression for Southern Hemisphere\n",
    "x_values = Southern_Hemisphere[\"Lat\"]\n",
    "y_values = Southern_Hemisphere[\"Wind Speed\"]\n",
    "plt.ylabel(\"Wind Speed\")\n",
    "plt.title(f\"Southern Hemisphere: City Latitude vs. Wind Speed ({shortened_timestamp})\")\n",
    "plt.savefig(\"..//WeatherPy/output_data/Fig12-SouthHem_CityLat_vs_WindSpeed.png\")\n",
    "linear_reg_plot(x_values,y_values)\n",
    "plt.show()"
   ]
  },
  {
   "cell_type": "markdown",
   "metadata": {},
   "source": [
    "Wind Speed vs. Latitude Analysis\n",
    "\n",
    "In both the Northern and Southern Hemispheres, the r-values demonstrate a weak relationship between latitude and wind speed which means that there is no evidence to support a relationship between proximity to the equator and wind speed."
   ]
  },
  {
   "cell_type": "code",
   "execution_count": null,
   "metadata": {},
   "outputs": [],
   "source": []
  }
 ],
 "metadata": {
  "anaconda-cloud": {},
  "kernel_info": {
   "name": "python3"
  },
  "kernelspec": {
   "display_name": "Python 3 (ipykernel)",
   "language": "python",
   "name": "python3"
  },
  "language_info": {
   "codemirror_mode": {
    "name": "ipython",
    "version": 3
   },
   "file_extension": ".py",
   "mimetype": "text/x-python",
   "name": "python",
   "nbconvert_exporter": "python",
   "pygments_lexer": "ipython3",
   "version": "3.9.7"
  },
  "latex_envs": {
   "LaTeX_envs_menu_present": true,
   "autoclose": false,
   "autocomplete": true,
   "bibliofile": "biblio.bib",
   "cite_by": "apalike",
   "current_citInitial": 1,
   "eqLabelWithNumbers": true,
   "eqNumInitial": 1,
   "hotkeys": {
    "equation": "Ctrl-E",
    "itemize": "Ctrl-I"
   },
   "labels_anchors": false,
   "latex_user_defs": false,
   "report_style_numbering": false,
   "user_envs_cfg": false
  },
  "nteract": {
   "version": "0.12.3"
  }
 },
 "nbformat": 4,
 "nbformat_minor": 2
}
